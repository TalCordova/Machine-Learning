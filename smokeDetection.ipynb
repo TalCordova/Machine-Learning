{
 "cells": [
  {
   "cell_type": "markdown",
   "source": [
    "# Smoke Detector Classification\n",
    "## source: https://www.kaggle.com/datasets/deepcontractor/smoke-detection-dataset\n",
    "### Import packages"
   ],
   "metadata": {
    "collapsed": false,
    "pycharm": {
     "name": "#%% md\n"
    }
   }
  },
  {
   "cell_type": "code",
   "execution_count": 72,
   "metadata": {
    "collapsed": true
   },
   "outputs": [],
   "source": [
    "\n",
    "#import libraries\n",
    "import numpy as np\n",
    "import pandas as pd\n",
    "import seaborn as sns\n",
    "from plotly.subplots import  make_subplots\n",
    "import matplotlib.pyplot as plt\n",
    "\n",
    "import plotly.express as px\n",
    "import missingno as msno\n",
    "\n",
    "from sklearn.model_selection import train_test_split\n",
    "from sklearn.preprocessing import StandardScaler\n",
    "\n",
    "## import models\n",
    "from sklearn.neighbors import KNeighborsClassifier\n",
    "from sklearn.linear_model import LogisticRegression, SGDClassifier\n",
    "from sklearn.ensemble import RandomForestClassifier, GradientBoostingClassifier, AdaBoostClassifier\n",
    "from sklearn.ensemble import BaggingClassifier\n",
    "from sklearn.svm import SVC\n",
    "from sklearn.naive_bayes import GaussianNB\n",
    "from sklearn.dummy import DummyClassifier\n",
    "from sklearn.tree import ExtraTreeClassifier\n",
    "\n",
    "\n",
    "from sklearn.metrics import accuracy_score\n",
    "import time\n",
    "\n",
    "import warnings\n",
    "warnings.filterwarnings('ignore')\n",
    "\n"
   ]
  },
  {
   "cell_type": "markdown",
   "source": [
    "## Data Exploration\n",
    "### Feature Description:\n",
    "1. UTC - Time of the experiment\n",
    "2. Temperature - The aie temperature, in celsius\n",
    "3. Humidity - air humidity, in percents\n",
    "4. TVOC - Total Volatile Organic Compounds, in parts per billion\n",
    "5. Co2e - CO2 equivalent concentration, in parts per million\n",
    "6. Raw H2 - Raw hydrogen levels, in parts per million\n",
    "7. Raw Ethanol - raw ethanol gas amounts\n",
    "8. Pressure - air pressure, in hectopascal\n",
    "9. PM1.0 - Paticulate matter of diameter less than 1.0 micrometer\n",
    "10. PM2.5 - Paticulate matter of diameter less than 2.5 micrometer\n",
    "11. NC0.5 - Concentration of particulate matter of diameter less than micrometers.\n",
    "12. NC1.0 - Concentration of particulate matter of diameter less than 1.0 micrometers.\n",
    "13. NC2.5 - Concentration of particulate matter of diameter less than 2.5 micrometers.\n",
    "14. CNT - Simple Count.\n",
    "15. Fire Alarm - (Reality) If fire was present then value is 1 else it is 0."
   ],
   "metadata": {
    "collapsed": false,
    "pycharm": {
     "name": "#%% md\n"
    }
   }
  },
  {
   "cell_type": "code",
   "execution_count": 73,
   "outputs": [
    {
     "data": {
      "text/plain": "<bound method NDFrame.head of        Unnamed: 0         UTC  Temperature[C]  Humidity[%]  TVOC[ppb]  \\\n0               0  1654733331          20.000        57.36          0   \n1               1  1654733332          20.015        56.67          0   \n2               2  1654733333          20.029        55.96          0   \n3               3  1654733334          20.044        55.28          0   \n4               4  1654733335          20.059        54.69          0   \n...           ...         ...             ...          ...        ...   \n62625       62625  1655130047          18.438        15.79        625   \n62626       62626  1655130048          18.653        15.87        612   \n62627       62627  1655130049          18.867        15.84        627   \n62628       62628  1655130050          19.083        16.04        638   \n62629       62629  1655130051          19.299        16.52        643   \n\n       eCO2[ppm]  Raw H2  Raw Ethanol  Pressure[hPa]  PM1.0  PM2.5  NC0.5  \\\n0            400   12306        18520        939.735   0.00   0.00   0.00   \n1            400   12345        18651        939.744   0.00   0.00   0.00   \n2            400   12374        18764        939.738   0.00   0.00   0.00   \n3            400   12390        18849        939.736   0.00   0.00   0.00   \n4            400   12403        18921        939.744   0.00   0.00   0.00   \n...          ...     ...          ...            ...    ...    ...    ...   \n62625        400   13723        20569        936.670   0.63   0.65   4.32   \n62626        400   13731        20588        936.678   0.61   0.63   4.18   \n62627        400   13725        20582        936.687   0.57   0.60   3.95   \n62628        400   13712        20566        936.680   0.57   0.59   3.92   \n62629        400   13696        20543        936.676   0.57   0.59   3.90   \n\n       NC1.0  NC2.5   CNT  Fire Alarm  \n0      0.000  0.000     0           0  \n1      0.000  0.000     1           0  \n2      0.000  0.000     2           0  \n3      0.000  0.000     3           0  \n4      0.000  0.000     4           0  \n...      ...    ...   ...         ...  \n62625  0.673  0.015  5739           0  \n62626  0.652  0.015  5740           0  \n62627  0.617  0.014  5741           0  \n62628  0.611  0.014  5742           0  \n62629  0.607  0.014  5743           0  \n\n[62630 rows x 16 columns]>"
     },
     "execution_count": 73,
     "metadata": {},
     "output_type": "execute_result"
    }
   ],
   "source": [
    "## Load Data\n",
    "data = pd.read_csv('smoke_detection_iot.csv', index_col=False)\n",
    "data.head"
   ],
   "metadata": {
    "collapsed": false,
    "pycharm": {
     "name": "#%%\n"
    }
   }
  },
  {
   "cell_type": "code",
   "execution_count": 74,
   "outputs": [
    {
     "data": {
      "text/plain": "(62630, 16)"
     },
     "execution_count": 74,
     "metadata": {},
     "output_type": "execute_result"
    }
   ],
   "source": [
    "data.shape"
   ],
   "metadata": {
    "collapsed": false,
    "pycharm": {
     "name": "#%%\n"
    }
   }
  },
  {
   "cell_type": "markdown",
   "source": [],
   "metadata": {
    "collapsed": false
   }
  },
  {
   "cell_type": "code",
   "execution_count": 75,
   "outputs": [
    {
     "data": {
      "text/plain": "<pandas.io.formats.style.Styler at 0x173a0c1d130>",
      "text/html": "<style type=\"text/css\">\n#T_a9fc6_row0_col0, #T_a9fc6_row1_col0, #T_a9fc6_row1_col3, #T_a9fc6_row1_col4, #T_a9fc6_row1_col5, #T_a9fc6_row1_col6, #T_a9fc6_row1_col7, #T_a9fc6_row2_col0, #T_a9fc6_row2_col3, #T_a9fc6_row2_col4, #T_a9fc6_row2_col5, #T_a9fc6_row2_col6, #T_a9fc6_row2_col7, #T_a9fc6_row3_col0, #T_a9fc6_row3_col3, #T_a9fc6_row3_col4, #T_a9fc6_row3_col5, #T_a9fc6_row3_col6, #T_a9fc6_row3_col7, #T_a9fc6_row4_col0, #T_a9fc6_row4_col3, #T_a9fc6_row4_col4, #T_a9fc6_row4_col5, #T_a9fc6_row4_col6, #T_a9fc6_row4_col7, #T_a9fc6_row5_col0, #T_a9fc6_row5_col3, #T_a9fc6_row5_col4, #T_a9fc6_row5_col5, #T_a9fc6_row5_col6, #T_a9fc6_row5_col7, #T_a9fc6_row6_col0, #T_a9fc6_row6_col3, #T_a9fc6_row6_col4, #T_a9fc6_row6_col5, #T_a9fc6_row6_col6, #T_a9fc6_row6_col7, #T_a9fc6_row7_col0, #T_a9fc6_row7_col3, #T_a9fc6_row7_col4, #T_a9fc6_row7_col5, #T_a9fc6_row7_col6, #T_a9fc6_row7_col7, #T_a9fc6_row8_col0, #T_a9fc6_row8_col3, #T_a9fc6_row8_col4, #T_a9fc6_row8_col5, #T_a9fc6_row8_col6, #T_a9fc6_row8_col7, #T_a9fc6_row9_col0, #T_a9fc6_row9_col3, #T_a9fc6_row9_col4, #T_a9fc6_row9_col5, #T_a9fc6_row9_col6, #T_a9fc6_row9_col7, #T_a9fc6_row10_col0, #T_a9fc6_row10_col3, #T_a9fc6_row10_col4, #T_a9fc6_row10_col5, #T_a9fc6_row10_col6, #T_a9fc6_row10_col7, #T_a9fc6_row11_col0, #T_a9fc6_row11_col3, #T_a9fc6_row11_col4, #T_a9fc6_row11_col5, #T_a9fc6_row11_col6, #T_a9fc6_row11_col7, #T_a9fc6_row12_col0, #T_a9fc6_row12_col3, #T_a9fc6_row12_col4, #T_a9fc6_row12_col5, #T_a9fc6_row12_col6, #T_a9fc6_row12_col7, #T_a9fc6_row13_col0, #T_a9fc6_row13_col3, #T_a9fc6_row13_col4, #T_a9fc6_row13_col5, #T_a9fc6_row13_col6, #T_a9fc6_row13_col7, #T_a9fc6_row14_col0, #T_a9fc6_row14_col3, #T_a9fc6_row14_col4, #T_a9fc6_row14_col5, #T_a9fc6_row14_col6, #T_a9fc6_row14_col7, #T_a9fc6_row15_col0, #T_a9fc6_row15_col3, #T_a9fc6_row15_col4, #T_a9fc6_row15_col5, #T_a9fc6_row15_col6, #T_a9fc6_row15_col7 {\n  background-color: #f7fcfd;\n  color: #000000;\n}\n#T_a9fc6_row0_col1 {\n  background-color: #00441b;\n  color: #f1f1f1;\n  width: 10em;\n  height: 80%;\n  background: linear-gradient(90deg,blue 100.0%, transparent 100.0%);\n}\n#T_a9fc6_row0_col2 {\n  background-color: #00441b;\n  color: #f1f1f1;\n  width: 10em;\n  height: 80%;\n  background: linear-gradient(90deg,red 100.0%, transparent 100.0%);\n}\n#T_a9fc6_row0_col3, #T_a9fc6_row0_col4, #T_a9fc6_row0_col5, #T_a9fc6_row0_col6, #T_a9fc6_row0_col7 {\n  background-color: #00441b;\n  color: #f1f1f1;\n}\n#T_a9fc6_row1_col1, #T_a9fc6_row2_col1, #T_a9fc6_row3_col1, #T_a9fc6_row4_col1, #T_a9fc6_row5_col1, #T_a9fc6_row6_col1, #T_a9fc6_row7_col1, #T_a9fc6_row8_col1, #T_a9fc6_row9_col1, #T_a9fc6_row10_col1, #T_a9fc6_row11_col1, #T_a9fc6_row12_col1, #T_a9fc6_row13_col1, #T_a9fc6_row14_col1 {\n  background-color: #f7fcfd;\n  color: #000000;\n  width: 10em;\n  height: 80%;\n  background: linear-gradient(90deg,blue 0.0%, transparent 0.0%);\n}\n#T_a9fc6_row1_col2 {\n  background-color: #ddf2f3;\n  color: #000000;\n  width: 10em;\n  height: 80%;\n  background: linear-gradient(90deg,red 16.4%, transparent 16.4%);\n}\n#T_a9fc6_row2_col2 {\n  background-color: #f6fcfd;\n  color: #000000;\n  width: 10em;\n  height: 80%;\n  background: linear-gradient(90deg,red 0.6%, transparent 0.6%);\n}\n#T_a9fc6_row3_col2 {\n  background-color: #f7fcfd;\n  color: #000000;\n  width: 10em;\n  height: 80%;\n  background: linear-gradient(90deg,red 0.2%, transparent 0.2%);\n}\n#T_a9fc6_row4_col2 {\n  background-color: #edf8fb;\n  color: #000000;\n  width: 10em;\n  height: 80%;\n  background: linear-gradient(90deg,red 6.9%, transparent 6.9%);\n}\n#T_a9fc6_row5_col2 {\n  background-color: #edf8fb;\n  color: #000000;\n  width: 10em;\n  height: 80%;\n  background: linear-gradient(90deg,red 7.1%, transparent 7.1%);\n}\n#T_a9fc6_row6_col2, #T_a9fc6_row13_col2, #T_a9fc6_row14_col2 {\n  background-color: #f7fcfd;\n  color: #000000;\n  width: 10em;\n  height: 80%;\n  background: linear-gradient(90deg,red 0.0%, transparent 0.0%);\n}\n#T_a9fc6_row7_col2 {\n  background-color: #f5fbfc;\n  color: #000000;\n  width: 10em;\n  height: 80%;\n  background: linear-gradient(90deg,red 1.7%, transparent 1.7%);\n}\n#T_a9fc6_row8_col2 {\n  background-color: #f2fafc;\n  color: #000000;\n  width: 10em;\n  height: 80%;\n  background: linear-gradient(90deg,red 3.9%, transparent 3.9%);\n}\n#T_a9fc6_row9_col2 {\n  background-color: #f4fbfc;\n  color: #000000;\n  width: 10em;\n  height: 80%;\n  background: linear-gradient(90deg,red 2.0%, transparent 2.0%);\n}\n#T_a9fc6_row10_col2 {\n  background-color: #f5fbfc;\n  color: #000000;\n  width: 10em;\n  height: 80%;\n  background: linear-gradient(90deg,red 1.8%, transparent 1.8%);\n}\n#T_a9fc6_row11_col2 {\n  background-color: #f6fcfd;\n  color: #000000;\n  width: 10em;\n  height: 80%;\n  background: linear-gradient(90deg,red 0.8%, transparent 0.8%);\n}\n#T_a9fc6_row12_col2 {\n  background-color: #f6fcfd;\n  color: #000000;\n  width: 10em;\n  height: 80%;\n  background: linear-gradient(90deg,red 1.0%, transparent 1.0%);\n}\n#T_a9fc6_row15_col1, #T_a9fc6_row15_col2 {\n  background-color: #f7fcfd;\n  color: #000000;\n  width: 10em;\n  height: 80%;\n}\n</style>\n<table id=\"T_a9fc6_\">\n  <thead>\n    <tr>\n      <th class=\"blank level0\" >&nbsp;</th>\n      <th class=\"col_heading level0 col0\" >count</th>\n      <th class=\"col_heading level0 col1\" >mean</th>\n      <th class=\"col_heading level0 col2\" >std</th>\n      <th class=\"col_heading level0 col3\" >min</th>\n      <th class=\"col_heading level0 col4\" >25%</th>\n      <th class=\"col_heading level0 col5\" >50%</th>\n      <th class=\"col_heading level0 col6\" >75%</th>\n      <th class=\"col_heading level0 col7\" >max</th>\n    </tr>\n  </thead>\n  <tbody>\n    <tr>\n      <th id=\"T_a9fc6_level0_row0\" class=\"row_heading level0 row0\" >UTC</th>\n      <td id=\"T_a9fc6_row0_col0\" class=\"data row0 col0\" >62630.000000</td>\n      <td id=\"T_a9fc6_row0_col1\" class=\"data row0 col1\" >1654792066.184273</td>\n      <td id=\"T_a9fc6_row0_col2\" class=\"data row0 col2\" >110002.488078</td>\n      <td id=\"T_a9fc6_row0_col3\" class=\"data row0 col3\" >1654712187.000000</td>\n      <td id=\"T_a9fc6_row0_col4\" class=\"data row0 col4\" >1654743244.250000</td>\n      <td id=\"T_a9fc6_row0_col5\" class=\"data row0 col5\" >1654761919.500000</td>\n      <td id=\"T_a9fc6_row0_col6\" class=\"data row0 col6\" >1654777576.750000</td>\n      <td id=\"T_a9fc6_row0_col7\" class=\"data row0 col7\" >1655130051.000000</td>\n    </tr>\n    <tr>\n      <th id=\"T_a9fc6_level0_row1\" class=\"row_heading level0 row1\" >Unnamed: 0</th>\n      <td id=\"T_a9fc6_row1_col0\" class=\"data row1 col0\" >62630.000000</td>\n      <td id=\"T_a9fc6_row1_col1\" class=\"data row1 col1\" >31314.500000</td>\n      <td id=\"T_a9fc6_row1_col2\" class=\"data row1 col2\" >18079.868017</td>\n      <td id=\"T_a9fc6_row1_col3\" class=\"data row1 col3\" >0.000000</td>\n      <td id=\"T_a9fc6_row1_col4\" class=\"data row1 col4\" >15657.250000</td>\n      <td id=\"T_a9fc6_row1_col5\" class=\"data row1 col5\" >31314.500000</td>\n      <td id=\"T_a9fc6_row1_col6\" class=\"data row1 col6\" >46971.750000</td>\n      <td id=\"T_a9fc6_row1_col7\" class=\"data row1 col7\" >62629.000000</td>\n    </tr>\n    <tr>\n      <th id=\"T_a9fc6_level0_row2\" class=\"row_heading level0 row2\" >Raw Ethanol</th>\n      <td id=\"T_a9fc6_row2_col0\" class=\"data row2 col0\" >62630.000000</td>\n      <td id=\"T_a9fc6_row2_col1\" class=\"data row2 col1\" >19754.257912</td>\n      <td id=\"T_a9fc6_row2_col2\" class=\"data row2 col2\" >609.513156</td>\n      <td id=\"T_a9fc6_row2_col3\" class=\"data row2 col3\" >15317.000000</td>\n      <td id=\"T_a9fc6_row2_col4\" class=\"data row2 col4\" >19435.000000</td>\n      <td id=\"T_a9fc6_row2_col5\" class=\"data row2 col5\" >19501.000000</td>\n      <td id=\"T_a9fc6_row2_col6\" class=\"data row2 col6\" >20078.000000</td>\n      <td id=\"T_a9fc6_row2_col7\" class=\"data row2 col7\" >21410.000000</td>\n    </tr>\n    <tr>\n      <th id=\"T_a9fc6_level0_row3\" class=\"row_heading level0 row3\" >Raw H2</th>\n      <td id=\"T_a9fc6_row3_col0\" class=\"data row3 col0\" >62630.000000</td>\n      <td id=\"T_a9fc6_row3_col1\" class=\"data row3 col1\" >12942.453936</td>\n      <td id=\"T_a9fc6_row3_col2\" class=\"data row3 col2\" >272.464305</td>\n      <td id=\"T_a9fc6_row3_col3\" class=\"data row3 col3\" >10668.000000</td>\n      <td id=\"T_a9fc6_row3_col4\" class=\"data row3 col4\" >12830.000000</td>\n      <td id=\"T_a9fc6_row3_col5\" class=\"data row3 col5\" >12924.000000</td>\n      <td id=\"T_a9fc6_row3_col6\" class=\"data row3 col6\" >13109.000000</td>\n      <td id=\"T_a9fc6_row3_col7\" class=\"data row3 col7\" >13803.000000</td>\n    </tr>\n    <tr>\n      <th id=\"T_a9fc6_level0_row4\" class=\"row_heading level0 row4\" >CNT</th>\n      <td id=\"T_a9fc6_row4_col0\" class=\"data row4 col0\" >62630.000000</td>\n      <td id=\"T_a9fc6_row4_col1\" class=\"data row4 col1\" >10511.386157</td>\n      <td id=\"T_a9fc6_row4_col2\" class=\"data row4 col2\" >7597.870997</td>\n      <td id=\"T_a9fc6_row4_col3\" class=\"data row4 col3\" >0.000000</td>\n      <td id=\"T_a9fc6_row4_col4\" class=\"data row4 col4\" >3625.250000</td>\n      <td id=\"T_a9fc6_row4_col5\" class=\"data row4 col5\" >9336.000000</td>\n      <td id=\"T_a9fc6_row4_col6\" class=\"data row4 col6\" >17164.750000</td>\n      <td id=\"T_a9fc6_row4_col7\" class=\"data row4 col7\" >24993.000000</td>\n    </tr>\n    <tr>\n      <th id=\"T_a9fc6_level0_row5\" class=\"row_heading level0 row5\" >TVOC[ppb]</th>\n      <td id=\"T_a9fc6_row5_col0\" class=\"data row5 col0\" >62630.000000</td>\n      <td id=\"T_a9fc6_row5_col1\" class=\"data row5 col1\" >1942.057528</td>\n      <td id=\"T_a9fc6_row5_col2\" class=\"data row5 col2\" >7811.589055</td>\n      <td id=\"T_a9fc6_row5_col3\" class=\"data row5 col3\" >0.000000</td>\n      <td id=\"T_a9fc6_row5_col4\" class=\"data row5 col4\" >130.000000</td>\n      <td id=\"T_a9fc6_row5_col5\" class=\"data row5 col5\" >981.000000</td>\n      <td id=\"T_a9fc6_row5_col6\" class=\"data row5 col6\" >1189.000000</td>\n      <td id=\"T_a9fc6_row5_col7\" class=\"data row5 col7\" >60000.000000</td>\n    </tr>\n    <tr>\n      <th id=\"T_a9fc6_level0_row6\" class=\"row_heading level0 row6\" >Pressure[hPa]</th>\n      <td id=\"T_a9fc6_row6_col0\" class=\"data row6 col0\" >62630.000000</td>\n      <td id=\"T_a9fc6_row6_col1\" class=\"data row6 col1\" >938.627649</td>\n      <td id=\"T_a9fc6_row6_col2\" class=\"data row6 col2\" >1.331344</td>\n      <td id=\"T_a9fc6_row6_col3\" class=\"data row6 col3\" >930.852000</td>\n      <td id=\"T_a9fc6_row6_col4\" class=\"data row6 col4\" >938.700000</td>\n      <td id=\"T_a9fc6_row6_col5\" class=\"data row6 col5\" >938.816000</td>\n      <td id=\"T_a9fc6_row6_col6\" class=\"data row6 col6\" >939.418000</td>\n      <td id=\"T_a9fc6_row6_col7\" class=\"data row6 col7\" >939.861000</td>\n    </tr>\n    <tr>\n      <th id=\"T_a9fc6_level0_row7\" class=\"row_heading level0 row7\" >eCO2[ppm]</th>\n      <td id=\"T_a9fc6_row7_col0\" class=\"data row7 col0\" >62630.000000</td>\n      <td id=\"T_a9fc6_row7_col1\" class=\"data row7 col1\" >670.021044</td>\n      <td id=\"T_a9fc6_row7_col2\" class=\"data row7 col2\" >1905.885439</td>\n      <td id=\"T_a9fc6_row7_col3\" class=\"data row7 col3\" >400.000000</td>\n      <td id=\"T_a9fc6_row7_col4\" class=\"data row7 col4\" >400.000000</td>\n      <td id=\"T_a9fc6_row7_col5\" class=\"data row7 col5\" >400.000000</td>\n      <td id=\"T_a9fc6_row7_col6\" class=\"data row7 col6\" >438.000000</td>\n      <td id=\"T_a9fc6_row7_col7\" class=\"data row7 col7\" >60000.000000</td>\n    </tr>\n    <tr>\n      <th id=\"T_a9fc6_level0_row8\" class=\"row_heading level0 row8\" >NC0.5</th>\n      <td id=\"T_a9fc6_row8_col0\" class=\"data row8 col0\" >62630.000000</td>\n      <td id=\"T_a9fc6_row8_col1\" class=\"data row8 col1\" >491.463608</td>\n      <td id=\"T_a9fc6_row8_col2\" class=\"data row8 col2\" >4265.661251</td>\n      <td id=\"T_a9fc6_row8_col3\" class=\"data row8 col3\" >0.000000</td>\n      <td id=\"T_a9fc6_row8_col4\" class=\"data row8 col4\" >8.820000</td>\n      <td id=\"T_a9fc6_row8_col5\" class=\"data row8 col5\" >12.450000</td>\n      <td id=\"T_a9fc6_row8_col6\" class=\"data row8 col6\" >14.420000</td>\n      <td id=\"T_a9fc6_row8_col7\" class=\"data row8 col7\" >61482.030000</td>\n    </tr>\n    <tr>\n      <th id=\"T_a9fc6_level0_row9\" class=\"row_heading level0 row9\" >NC1.0</th>\n      <td id=\"T_a9fc6_row9_col0\" class=\"data row9 col0\" >62630.000000</td>\n      <td id=\"T_a9fc6_row9_col1\" class=\"data row9 col1\" >203.586487</td>\n      <td id=\"T_a9fc6_row9_col2\" class=\"data row9 col2\" >2214.738556</td>\n      <td id=\"T_a9fc6_row9_col3\" class=\"data row9 col3\" >0.000000</td>\n      <td id=\"T_a9fc6_row9_col4\" class=\"data row9 col4\" >1.384000</td>\n      <td id=\"T_a9fc6_row9_col5\" class=\"data row9 col5\" >1.943000</td>\n      <td id=\"T_a9fc6_row9_col6\" class=\"data row9 col6\" >2.249000</td>\n      <td id=\"T_a9fc6_row9_col7\" class=\"data row9 col7\" >51914.680000</td>\n    </tr>\n    <tr>\n      <th id=\"T_a9fc6_level0_row10\" class=\"row_heading level0 row10\" >PM2.5</th>\n      <td id=\"T_a9fc6_row10_col0\" class=\"data row10 col0\" >62630.000000</td>\n      <td id=\"T_a9fc6_row10_col1\" class=\"data row10 col1\" >184.467770</td>\n      <td id=\"T_a9fc6_row10_col2\" class=\"data row10 col2\" >1976.305615</td>\n      <td id=\"T_a9fc6_row10_col3\" class=\"data row10 col3\" >0.000000</td>\n      <td id=\"T_a9fc6_row10_col4\" class=\"data row10 col4\" >1.340000</td>\n      <td id=\"T_a9fc6_row10_col5\" class=\"data row10 col5\" >1.880000</td>\n      <td id=\"T_a9fc6_row10_col6\" class=\"data row10 col6\" >2.180000</td>\n      <td id=\"T_a9fc6_row10_col7\" class=\"data row10 col7\" >45432.260000</td>\n    </tr>\n    <tr>\n      <th id=\"T_a9fc6_level0_row11\" class=\"row_heading level0 row11\" >PM1.0</th>\n      <td id=\"T_a9fc6_row11_col0\" class=\"data row11 col0\" >62630.000000</td>\n      <td id=\"T_a9fc6_row11_col1\" class=\"data row11 col1\" >100.594309</td>\n      <td id=\"T_a9fc6_row11_col2\" class=\"data row11 col2\" >922.524245</td>\n      <td id=\"T_a9fc6_row11_col3\" class=\"data row11 col3\" >0.000000</td>\n      <td id=\"T_a9fc6_row11_col4\" class=\"data row11 col4\" >1.280000</td>\n      <td id=\"T_a9fc6_row11_col5\" class=\"data row11 col5\" >1.810000</td>\n      <td id=\"T_a9fc6_row11_col6\" class=\"data row11 col6\" >2.090000</td>\n      <td id=\"T_a9fc6_row11_col7\" class=\"data row11 col7\" >14333.690000</td>\n    </tr>\n    <tr>\n      <th id=\"T_a9fc6_level0_row12\" class=\"row_heading level0 row12\" >NC2.5</th>\n      <td id=\"T_a9fc6_row12_col0\" class=\"data row12 col0\" >62630.000000</td>\n      <td id=\"T_a9fc6_row12_col1\" class=\"data row12 col1\" >80.049042</td>\n      <td id=\"T_a9fc6_row12_col2\" class=\"data row12 col2\" >1083.383189</td>\n      <td id=\"T_a9fc6_row12_col3\" class=\"data row12 col3\" >0.000000</td>\n      <td id=\"T_a9fc6_row12_col4\" class=\"data row12 col4\" >0.033000</td>\n      <td id=\"T_a9fc6_row12_col5\" class=\"data row12 col5\" >0.044000</td>\n      <td id=\"T_a9fc6_row12_col6\" class=\"data row12 col6\" >0.051000</td>\n      <td id=\"T_a9fc6_row12_col7\" class=\"data row12 col7\" >30026.438000</td>\n    </tr>\n    <tr>\n      <th id=\"T_a9fc6_level0_row13\" class=\"row_heading level0 row13\" >Humidity[%]</th>\n      <td id=\"T_a9fc6_row13_col0\" class=\"data row13 col0\" >62630.000000</td>\n      <td id=\"T_a9fc6_row13_col1\" class=\"data row13 col1\" >48.539499</td>\n      <td id=\"T_a9fc6_row13_col2\" class=\"data row13 col2\" >8.865367</td>\n      <td id=\"T_a9fc6_row13_col3\" class=\"data row13 col3\" >10.740000</td>\n      <td id=\"T_a9fc6_row13_col4\" class=\"data row13 col4\" >47.530000</td>\n      <td id=\"T_a9fc6_row13_col5\" class=\"data row13 col5\" >50.150000</td>\n      <td id=\"T_a9fc6_row13_col6\" class=\"data row13 col6\" >53.240000</td>\n      <td id=\"T_a9fc6_row13_col7\" class=\"data row13 col7\" >75.200000</td>\n    </tr>\n    <tr>\n      <th id=\"T_a9fc6_level0_row14\" class=\"row_heading level0 row14\" >Temperature[C]</th>\n      <td id=\"T_a9fc6_row14_col0\" class=\"data row14 col0\" >62630.000000</td>\n      <td id=\"T_a9fc6_row14_col1\" class=\"data row14 col1\" >15.970424</td>\n      <td id=\"T_a9fc6_row14_col2\" class=\"data row14 col2\" >14.359576</td>\n      <td id=\"T_a9fc6_row14_col3\" class=\"data row14 col3\" >-22.010000</td>\n      <td id=\"T_a9fc6_row14_col4\" class=\"data row14 col4\" >10.994250</td>\n      <td id=\"T_a9fc6_row14_col5\" class=\"data row14 col5\" >20.130000</td>\n      <td id=\"T_a9fc6_row14_col6\" class=\"data row14 col6\" >25.409500</td>\n      <td id=\"T_a9fc6_row14_col7\" class=\"data row14 col7\" >59.930000</td>\n    </tr>\n    <tr>\n      <th id=\"T_a9fc6_level0_row15\" class=\"row_heading level0 row15\" >Fire Alarm</th>\n      <td id=\"T_a9fc6_row15_col0\" class=\"data row15 col0\" >62630.000000</td>\n      <td id=\"T_a9fc6_row15_col1\" class=\"data row15 col1\" >0.714626</td>\n      <td id=\"T_a9fc6_row15_col2\" class=\"data row15 col2\" >0.451596</td>\n      <td id=\"T_a9fc6_row15_col3\" class=\"data row15 col3\" >0.000000</td>\n      <td id=\"T_a9fc6_row15_col4\" class=\"data row15 col4\" >0.000000</td>\n      <td id=\"T_a9fc6_row15_col5\" class=\"data row15 col5\" >1.000000</td>\n      <td id=\"T_a9fc6_row15_col6\" class=\"data row15 col6\" >1.000000</td>\n      <td id=\"T_a9fc6_row15_col7\" class=\"data row15 col7\" >1.000000</td>\n    </tr>\n  </tbody>\n</table>\n"
     },
     "execution_count": 75,
     "metadata": {},
     "output_type": "execute_result"
    }
   ],
   "source": [
    "data.describe().T.sort_values(ascending=0, by = \"mean\").style.background_gradient(cmap = \"BuGn\")\\\n",
    ".bar(subset = [\"std\"], color = \"red\").bar(subset = [\"mean\"], color = \"blue\")\n"
   ],
   "metadata": {
    "collapsed": false,
    "pycharm": {
     "name": "#%%\n"
    }
   }
  },
  {
   "cell_type": "code",
   "execution_count": 76,
   "outputs": [
    {
     "name": "stdout",
     "output_type": "stream",
     "text": [
      "Unnamed: 0 ---> 62630\n",
      "UTC ---> 62630\n",
      "Temperature[C] ---> 21672\n",
      "Humidity[%] ---> 3890\n",
      "TVOC[ppb] ---> 1966\n",
      "eCO2[ppm] ---> 1713\n",
      "Raw H2 ---> 1830\n",
      "Raw Ethanol ---> 2659\n",
      "Pressure[hPa] ---> 2213\n",
      "PM1.0 ---> 1337\n",
      "PM2.5 ---> 1351\n",
      "NC0.5 ---> 3093\n",
      "NC1.0 ---> 4113\n",
      "NC2.5 ---> 1161\n",
      "CNT ---> 24994\n",
      "Fire Alarm ---> 2\n"
     ]
    }
   ],
   "source": [
    "## Get unique values\n",
    "features = data.columns\n",
    "for feature in features:\n",
    "    print(f\"{feature} ---> {data[feature].nunique()}\")"
   ],
   "metadata": {
    "collapsed": false,
    "pycharm": {
     "name": "#%%\n"
    }
   }
  },
  {
   "cell_type": "code",
   "execution_count": 77,
   "outputs": [
    {
     "data": {
      "text/plain": "Unnamed: 0        0\nUTC               0\nTemperature[C]    0\nHumidity[%]       0\nTVOC[ppb]         0\neCO2[ppm]         0\nRaw H2            0\nRaw Ethanol       0\nPressure[hPa]     0\nPM1.0             0\nPM2.5             0\nNC0.5             0\nNC1.0             0\nNC2.5             0\nCNT               0\nFire Alarm        0\ndtype: int64"
     },
     "execution_count": 77,
     "metadata": {},
     "output_type": "execute_result"
    }
   ],
   "source": [
    "## null values\n",
    "data.isna().sum()"
   ],
   "metadata": {
    "collapsed": false,
    "pycharm": {
     "name": "#%%\n"
    }
   }
  },
  {
   "cell_type": "code",
   "execution_count": 78,
   "outputs": [
    {
     "data": {
      "text/plain": "<AxesSubplot:>"
     },
     "execution_count": 78,
     "metadata": {},
     "output_type": "execute_result"
    },
    {
     "data": {
      "text/plain": "<Figure size 1800x720 with 2 Axes>",
      "image/png": "[encoded data removed]"
     },
     "metadata": {},
     "output_type": "display_data"
    }
   ],
   "source": [
    "## visualize missing data\n",
    "msno.matrix(data)"
   ],
   "metadata": {
    "collapsed": false,
    "pycharm": {
     "name": "#%%\n"
    }
   }
  },
  {
   "cell_type": "markdown",
   "source": [
    "## Data Cleaning\n",
    "Since there are no missing values, we need to do nothing.\n",
    "Some values are useless: UTC, Unamed: 0 and CNT\n"
   ],
   "metadata": {
    "collapsed": false,
    "pycharm": {
     "name": "#%% md\n"
    }
   }
  },
  {
   "cell_type": "code",
   "execution_count": 79,
   "outputs": [
    {
     "data": {
      "text/plain": "   Temperature[C]  Humidity[%]  TVOC[ppb]  eCO2[ppm]  Raw H2  Raw Ethanol  \\\n0          20.000        57.36          0        400   12306        18520   \n1          20.015        56.67          0        400   12345        18651   \n2          20.029        55.96          0        400   12374        18764   \n3          20.044        55.28          0        400   12390        18849   \n4          20.059        54.69          0        400   12403        18921   \n\n   Pressure[hPa]  PM1.0  PM2.5  NC0.5  NC1.0  NC2.5  Fire Alarm  \n0        939.735    0.0    0.0    0.0    0.0    0.0           0  \n1        939.744    0.0    0.0    0.0    0.0    0.0           0  \n2        939.738    0.0    0.0    0.0    0.0    0.0           0  \n3        939.736    0.0    0.0    0.0    0.0    0.0           0  \n4        939.744    0.0    0.0    0.0    0.0    0.0           0  ",
      "text/html": "<div>\n<style scoped>\n    .dataframe tbody tr th:only-of-type {\n        vertical-align: middle;\n    }\n\n    .dataframe tbody tr th {\n        vertical-align: top;\n    }\n\n    .dataframe thead th {\n        text-align: right;\n    }\n</style>\n<table border=\"1\" class=\"dataframe\">\n  <thead>\n    <tr style=\"text-align: right;\">\n      <th></th>\n      <th>Temperature[C]</th>\n      <th>Humidity[%]</th>\n      <th>TVOC[ppb]</th>\n      <th>eCO2[ppm]</th>\n      <th>Raw H2</th>\n      <th>Raw Ethanol</th>\n      <th>Pressure[hPa]</th>\n      <th>PM1.0</th>\n      <th>PM2.5</th>\n      <th>NC0.5</th>\n      <th>NC1.0</th>\n      <th>NC2.5</th>\n      <th>Fire Alarm</th>\n    </tr>\n  </thead>\n  <tbody>\n    <tr>\n      <th>0</th>\n      <td>20.000</td>\n      <td>57.36</td>\n      <td>0</td>\n      <td>400</td>\n      <td>12306</td>\n      <td>18520</td>\n      <td>939.735</td>\n      <td>0.0</td>\n      <td>0.0</td>\n      <td>0.0</td>\n      <td>0.0</td>\n      <td>0.0</td>\n      <td>0</td>\n    </tr>\n    <tr>\n      <th>1</th>\n      <td>20.015</td>\n      <td>56.67</td>\n      <td>0</td>\n      <td>400</td>\n      <td>12345</td>\n      <td>18651</td>\n      <td>939.744</td>\n      <td>0.0</td>\n      <td>0.0</td>\n      <td>0.0</td>\n      <td>0.0</td>\n      <td>0.0</td>\n      <td>0</td>\n    </tr>\n    <tr>\n      <th>2</th>\n      <td>20.029</td>\n      <td>55.96</td>\n      <td>0</td>\n      <td>400</td>\n      <td>12374</td>\n      <td>18764</td>\n      <td>939.738</td>\n      <td>0.0</td>\n      <td>0.0</td>\n      <td>0.0</td>\n      <td>0.0</td>\n      <td>0.0</td>\n      <td>0</td>\n    </tr>\n    <tr>\n      <th>3</th>\n      <td>20.044</td>\n      <td>55.28</td>\n      <td>0</td>\n      <td>400</td>\n      <td>12390</td>\n      <td>18849</td>\n      <td>939.736</td>\n      <td>0.0</td>\n      <td>0.0</td>\n      <td>0.0</td>\n      <td>0.0</td>\n      <td>0.0</td>\n      <td>0</td>\n    </tr>\n    <tr>\n      <th>4</th>\n      <td>20.059</td>\n      <td>54.69</td>\n      <td>0</td>\n      <td>400</td>\n      <td>12403</td>\n      <td>18921</td>\n      <td>939.744</td>\n      <td>0.0</td>\n      <td>0.0</td>\n      <td>0.0</td>\n      <td>0.0</td>\n      <td>0.0</td>\n      <td>0</td>\n    </tr>\n  </tbody>\n</table>\n</div>"
     },
     "execution_count": 79,
     "metadata": {},
     "output_type": "execute_result"
    }
   ],
   "source": [
    "## drop useless columns\n",
    "data = data.drop(['UTC','Unnamed: 0', 'CNT'], axis = 1)\n",
    "data.head()"
   ],
   "metadata": {
    "collapsed": false,
    "pycharm": {
     "name": "#%%\n"
    }
   }
  },
  {
   "cell_type": "code",
   "execution_count": 80,
   "outputs": [
    {
     "data": {
      "text/plain": "(62630, 13)"
     },
     "execution_count": 80,
     "metadata": {},
     "output_type": "execute_result"
    }
   ],
   "source": [
    "data.shape"
   ],
   "metadata": {
    "collapsed": false,
    "pycharm": {
     "name": "#%%\n"
    }
   }
  },
  {
   "cell_type": "code",
   "execution_count": 81,
   "outputs": [
    {
     "data": {
      "text/plain": "<pandas.io.formats.style.Styler at 0x173a07b3790>",
      "text/html": "<style type=\"text/css\">\n#T_db606_row0_col0, #T_db606_row1_col0, #T_db606_row2_col0, #T_db606_row2_col3, #T_db606_row3_col0, #T_db606_row4_col0, #T_db606_row5_col0, #T_db606_row5_col3, #T_db606_row5_col4, #T_db606_row5_col5, #T_db606_row5_col6, #T_db606_row6_col0, #T_db606_row6_col3, #T_db606_row6_col4, #T_db606_row6_col5, #T_db606_row6_col6, #T_db606_row7_col0, #T_db606_row7_col3, #T_db606_row7_col4, #T_db606_row7_col5, #T_db606_row7_col6, #T_db606_row8_col0, #T_db606_row8_col3, #T_db606_row8_col4, #T_db606_row8_col5, #T_db606_row8_col6, #T_db606_row9_col0, #T_db606_row9_col3, #T_db606_row9_col4, #T_db606_row9_col5, #T_db606_row9_col6, #T_db606_row10_col0, #T_db606_row10_col3, #T_db606_row10_col4, #T_db606_row10_col5, #T_db606_row10_col6, #T_db606_row10_col7, #T_db606_row11_col0, #T_db606_row11_col3, #T_db606_row11_col4, #T_db606_row11_col5, #T_db606_row11_col6, #T_db606_row11_col7, #T_db606_row12_col0, #T_db606_row12_col3, #T_db606_row12_col4, #T_db606_row12_col5, #T_db606_row12_col6, #T_db606_row12_col7 {\n  background-color: #f7fcfd;\n  color: #000000;\n}\n#T_db606_row0_col1 {\n  background-color: #00441b;\n  color: #f1f1f1;\n  width: 10em;\n  height: 80%;\n  background: linear-gradient(90deg,blue 100.0%, transparent 100.0%);\n}\n#T_db606_row0_col2 {\n  background-color: #ecf8fb;\n  color: #000000;\n  width: 10em;\n  height: 80%;\n  background: linear-gradient(90deg,red 7.8%, transparent 7.8%);\n}\n#T_db606_row0_col3, #T_db606_row0_col4, #T_db606_row0_col5, #T_db606_row0_col6, #T_db606_row5_col7 {\n  background-color: #00441b;\n  color: #f1f1f1;\n}\n#T_db606_row0_col7 {\n  background-color: #a4dccf;\n  color: #000000;\n}\n#T_db606_row1_col1 {\n  background-color: #3aa66a;\n  color: #f1f1f1;\n  width: 10em;\n  height: 80%;\n  background: linear-gradient(90deg,blue 65.5%, transparent 65.5%);\n}\n#T_db606_row1_col2 {\n  background-color: #f2fafc;\n  color: #000000;\n  width: 10em;\n  height: 80%;\n  background: linear-gradient(90deg,red 3.5%, transparent 3.5%);\n}\n#T_db606_row1_col3 {\n  background-color: #2f9a59;\n  color: #f1f1f1;\n}\n#T_db606_row1_col4 {\n  background-color: #39a569;\n  color: #f1f1f1;\n}\n#T_db606_row1_col5 {\n  background-color: #38a367;\n  color: #f1f1f1;\n}\n#T_db606_row1_col6 {\n  background-color: #3aa66a;\n  color: #f1f1f1;\n}\n#T_db606_row1_col7 {\n  background-color: #d1eeea;\n  color: #000000;\n}\n#T_db606_row2_col1 {\n  background-color: #e9f7fa;\n  color: #000000;\n  width: 10em;\n  height: 80%;\n  background: linear-gradient(90deg,blue 9.8%, transparent 9.8%);\n}\n#T_db606_row2_col2 {\n  background-color: #00441b;\n  color: #f1f1f1;\n  width: 10em;\n  height: 80%;\n  background: linear-gradient(90deg,red 100.0%, transparent 100.0%);\n}\n#T_db606_row2_col4 {\n  background-color: #f6fcfd;\n  color: #000000;\n}\n#T_db606_row2_col5, #T_db606_row3_col4, #T_db606_row3_col5 {\n  background-color: #f0f9fb;\n  color: #000000;\n}\n#T_db606_row2_col6, #T_db606_row3_col3 {\n  background-color: #eff9fb;\n  color: #000000;\n}\n#T_db606_row2_col7, #T_db606_row4_col7 {\n  background-color: #004c1e;\n  color: #f1f1f1;\n}\n#T_db606_row3_col1 {\n  background-color: #f0f9fb;\n  color: #000000;\n  width: 10em;\n  height: 80%;\n  background: linear-gradient(90deg,blue 4.7%, transparent 4.7%);\n}\n#T_db606_row3_col2 {\n  background-color: #f7fcfd;\n  color: #000000;\n  width: 10em;\n  height: 80%;\n  background: linear-gradient(90deg,red 0.0%, transparent 0.0%);\n}\n#T_db606_row3_col6 {\n  background-color: #f1fafc;\n  color: #000000;\n}\n#T_db606_row3_col7 {\n  background-color: #f5fbfd;\n  color: #000000;\n}\n#T_db606_row4_col1 {\n  background-color: #f2fafc;\n  color: #000000;\n  width: 10em;\n  height: 80%;\n  background: linear-gradient(90deg,blue 3.4%, transparent 3.4%);\n}\n#T_db606_row4_col2 {\n  background-color: #cdece7;\n  color: #000000;\n  width: 10em;\n  height: 80%;\n  background: linear-gradient(90deg,red 24.4%, transparent 24.4%);\n}\n#T_db606_row4_col3 {\n  background-color: #f3fafc;\n  color: #000000;\n}\n#T_db606_row4_col4, #T_db606_row4_col5, #T_db606_row4_col6 {\n  background-color: #f4fbfc;\n  color: #000000;\n}\n#T_db606_row5_col1 {\n  background-color: #f4fbfc;\n  color: #000000;\n  width: 10em;\n  height: 80%;\n  background: linear-gradient(90deg,blue 2.5%, transparent 2.5%);\n}\n#T_db606_row5_col2 {\n  background-color: #59bb93;\n  color: #f1f1f1;\n  width: 10em;\n  height: 80%;\n  background: linear-gradient(90deg,red 54.6%, transparent 54.6%);\n}\n#T_db606_row6_col1 {\n  background-color: #f6fcfd;\n  color: #000000;\n  width: 10em;\n  height: 80%;\n  background: linear-gradient(90deg,blue 1.0%, transparent 1.0%);\n}\n#T_db606_row6_col2 {\n  background-color: #bfe7de;\n  color: #000000;\n  width: 10em;\n  height: 80%;\n  background: linear-gradient(90deg,red 28.3%, transparent 28.3%);\n}\n#T_db606_row6_col7 {\n  background-color: #087432;\n  color: #f1f1f1;\n}\n#T_db606_row7_col1 {\n  background-color: #f6fcfd;\n  color: #000000;\n  width: 10em;\n  height: 80%;\n  background: linear-gradient(90deg,blue 0.9%, transparent 0.9%);\n}\n#T_db606_row7_col2 {\n  background-color: #ccece6;\n  color: #000000;\n  width: 10em;\n  height: 80%;\n  background: linear-gradient(90deg,red 25.3%, transparent 25.3%);\n}\n#T_db606_row7_col7 {\n  background-color: #258d48;\n  color: #f1f1f1;\n}\n#T_db606_row8_col1 {\n  background-color: #f6fcfd;\n  color: #000000;\n  width: 10em;\n  height: 80%;\n  background: linear-gradient(90deg,blue 0.5%, transparent 0.5%);\n}\n#T_db606_row8_col2 {\n  background-color: #e6f5f9;\n  color: #000000;\n  width: 10em;\n  height: 80%;\n  background: linear-gradient(90deg,red 11.8%, transparent 11.8%);\n}\n#T_db606_row8_col7 {\n  background-color: #d0ede9;\n  color: #000000;\n}\n#T_db606_row9_col1 {\n  background-color: #f6fcfd;\n  color: #000000;\n  width: 10em;\n  height: 80%;\n  background: linear-gradient(90deg,blue 0.4%, transparent 0.4%);\n}\n#T_db606_row9_col2 {\n  background-color: #e3f4f7;\n  color: #000000;\n  width: 10em;\n  height: 80%;\n  background: linear-gradient(90deg,red 13.9%, transparent 13.9%);\n}\n#T_db606_row9_col7 {\n  background-color: #6ac4a7;\n  color: #000000;\n}\n#T_db606_row10_col1 {\n  background-color: #f7fcfd;\n  color: #000000;\n  width: 10em;\n  height: 80%;\n  background: linear-gradient(90deg,blue 0.2%, transparent 0.2%);\n}\n#T_db606_row10_col2 {\n  background-color: #f7fcfd;\n  color: #000000;\n  width: 10em;\n  height: 80%;\n  background: linear-gradient(90deg,red 0.1%, transparent 0.1%);\n}\n#T_db606_row11_col1 {\n  background-color: #f7fcfd;\n  color: #000000;\n  width: 10em;\n  height: 80%;\n  background: linear-gradient(90deg,blue 0.1%, transparent 0.1%);\n}\n#T_db606_row11_col2 {\n  background-color: #f7fcfd;\n  color: #000000;\n  width: 10em;\n  height: 80%;\n  background: linear-gradient(90deg,red 0.2%, transparent 0.2%);\n}\n#T_db606_row12_col1, #T_db606_row12_col2 {\n  background-color: #f7fcfd;\n  color: #000000;\n  width: 10em;\n  height: 80%;\n}\n</style>\n<table id=\"T_db606_\">\n  <thead>\n    <tr>\n      <th class=\"blank level0\" >&nbsp;</th>\n      <th class=\"col_heading level0 col0\" >count</th>\n      <th class=\"col_heading level0 col1\" >mean</th>\n      <th class=\"col_heading level0 col2\" >std</th>\n      <th class=\"col_heading level0 col3\" >min</th>\n      <th class=\"col_heading level0 col4\" >25%</th>\n      <th class=\"col_heading level0 col5\" >50%</th>\n      <th class=\"col_heading level0 col6\" >75%</th>\n      <th class=\"col_heading level0 col7\" >max</th>\n    </tr>\n  </thead>\n  <tbody>\n    <tr>\n      <th id=\"T_db606_level0_row0\" class=\"row_heading level0 row0\" >Raw Ethanol</th>\n      <td id=\"T_db606_row0_col0\" class=\"data row0 col0\" >62630.000000</td>\n      <td id=\"T_db606_row0_col1\" class=\"data row0 col1\" >19754.257912</td>\n      <td id=\"T_db606_row0_col2\" class=\"data row0 col2\" >609.513156</td>\n      <td id=\"T_db606_row0_col3\" class=\"data row0 col3\" >15317.000000</td>\n      <td id=\"T_db606_row0_col4\" class=\"data row0 col4\" >19435.000000</td>\n      <td id=\"T_db606_row0_col5\" class=\"data row0 col5\" >19501.000000</td>\n      <td id=\"T_db606_row0_col6\" class=\"data row0 col6\" >20078.000000</td>\n      <td id=\"T_db606_row0_col7\" class=\"data row0 col7\" >21410.000000</td>\n    </tr>\n    <tr>\n      <th id=\"T_db606_level0_row1\" class=\"row_heading level0 row1\" >Raw H2</th>\n      <td id=\"T_db606_row1_col0\" class=\"data row1 col0\" >62630.000000</td>\n      <td id=\"T_db606_row1_col1\" class=\"data row1 col1\" >12942.453936</td>\n      <td id=\"T_db606_row1_col2\" class=\"data row1 col2\" >272.464305</td>\n      <td id=\"T_db606_row1_col3\" class=\"data row1 col3\" >10668.000000</td>\n      <td id=\"T_db606_row1_col4\" class=\"data row1 col4\" >12830.000000</td>\n      <td id=\"T_db606_row1_col5\" class=\"data row1 col5\" >12924.000000</td>\n      <td id=\"T_db606_row1_col6\" class=\"data row1 col6\" >13109.000000</td>\n      <td id=\"T_db606_row1_col7\" class=\"data row1 col7\" >13803.000000</td>\n    </tr>\n    <tr>\n      <th id=\"T_db606_level0_row2\" class=\"row_heading level0 row2\" >TVOC[ppb]</th>\n      <td id=\"T_db606_row2_col0\" class=\"data row2 col0\" >62630.000000</td>\n      <td id=\"T_db606_row2_col1\" class=\"data row2 col1\" >1942.057528</td>\n      <td id=\"T_db606_row2_col2\" class=\"data row2 col2\" >7811.589055</td>\n      <td id=\"T_db606_row2_col3\" class=\"data row2 col3\" >0.000000</td>\n      <td id=\"T_db606_row2_col4\" class=\"data row2 col4\" >130.000000</td>\n      <td id=\"T_db606_row2_col5\" class=\"data row2 col5\" >981.000000</td>\n      <td id=\"T_db606_row2_col6\" class=\"data row2 col6\" >1189.000000</td>\n      <td id=\"T_db606_row2_col7\" class=\"data row2 col7\" >60000.000000</td>\n    </tr>\n    <tr>\n      <th id=\"T_db606_level0_row3\" class=\"row_heading level0 row3\" >Pressure[hPa]</th>\n      <td id=\"T_db606_row3_col0\" class=\"data row3 col0\" >62630.000000</td>\n      <td id=\"T_db606_row3_col1\" class=\"data row3 col1\" >938.627649</td>\n      <td id=\"T_db606_row3_col2\" class=\"data row3 col2\" >1.331344</td>\n      <td id=\"T_db606_row3_col3\" class=\"data row3 col3\" >930.852000</td>\n      <td id=\"T_db606_row3_col4\" class=\"data row3 col4\" >938.700000</td>\n      <td id=\"T_db606_row3_col5\" class=\"data row3 col5\" >938.816000</td>\n      <td id=\"T_db606_row3_col6\" class=\"data row3 col6\" >939.418000</td>\n      <td id=\"T_db606_row3_col7\" class=\"data row3 col7\" >939.861000</td>\n    </tr>\n    <tr>\n      <th id=\"T_db606_level0_row4\" class=\"row_heading level0 row4\" >eCO2[ppm]</th>\n      <td id=\"T_db606_row4_col0\" class=\"data row4 col0\" >62630.000000</td>\n      <td id=\"T_db606_row4_col1\" class=\"data row4 col1\" >670.021044</td>\n      <td id=\"T_db606_row4_col2\" class=\"data row4 col2\" >1905.885439</td>\n      <td id=\"T_db606_row4_col3\" class=\"data row4 col3\" >400.000000</td>\n      <td id=\"T_db606_row4_col4\" class=\"data row4 col4\" >400.000000</td>\n      <td id=\"T_db606_row4_col5\" class=\"data row4 col5\" >400.000000</td>\n      <td id=\"T_db606_row4_col6\" class=\"data row4 col6\" >438.000000</td>\n      <td id=\"T_db606_row4_col7\" class=\"data row4 col7\" >60000.000000</td>\n    </tr>\n    <tr>\n      <th id=\"T_db606_level0_row5\" class=\"row_heading level0 row5\" >NC0.5</th>\n      <td id=\"T_db606_row5_col0\" class=\"data row5 col0\" >62630.000000</td>\n      <td id=\"T_db606_row5_col1\" class=\"data row5 col1\" >491.463608</td>\n      <td id=\"T_db606_row5_col2\" class=\"data row5 col2\" >4265.661251</td>\n      <td id=\"T_db606_row5_col3\" class=\"data row5 col3\" >0.000000</td>\n      <td id=\"T_db606_row5_col4\" class=\"data row5 col4\" >8.820000</td>\n      <td id=\"T_db606_row5_col5\" class=\"data row5 col5\" >12.450000</td>\n      <td id=\"T_db606_row5_col6\" class=\"data row5 col6\" >14.420000</td>\n      <td id=\"T_db606_row5_col7\" class=\"data row5 col7\" >61482.030000</td>\n    </tr>\n    <tr>\n      <th id=\"T_db606_level0_row6\" class=\"row_heading level0 row6\" >NC1.0</th>\n      <td id=\"T_db606_row6_col0\" class=\"data row6 col0\" >62630.000000</td>\n      <td id=\"T_db606_row6_col1\" class=\"data row6 col1\" >203.586487</td>\n      <td id=\"T_db606_row6_col2\" class=\"data row6 col2\" >2214.738556</td>\n      <td id=\"T_db606_row6_col3\" class=\"data row6 col3\" >0.000000</td>\n      <td id=\"T_db606_row6_col4\" class=\"data row6 col4\" >1.384000</td>\n      <td id=\"T_db606_row6_col5\" class=\"data row6 col5\" >1.943000</td>\n      <td id=\"T_db606_row6_col6\" class=\"data row6 col6\" >2.249000</td>\n      <td id=\"T_db606_row6_col7\" class=\"data row6 col7\" >51914.680000</td>\n    </tr>\n    <tr>\n      <th id=\"T_db606_level0_row7\" class=\"row_heading level0 row7\" >PM2.5</th>\n      <td id=\"T_db606_row7_col0\" class=\"data row7 col0\" >62630.000000</td>\n      <td id=\"T_db606_row7_col1\" class=\"data row7 col1\" >184.467770</td>\n      <td id=\"T_db606_row7_col2\" class=\"data row7 col2\" >1976.305615</td>\n      <td id=\"T_db606_row7_col3\" class=\"data row7 col3\" >0.000000</td>\n      <td id=\"T_db606_row7_col4\" class=\"data row7 col4\" >1.340000</td>\n      <td id=\"T_db606_row7_col5\" class=\"data row7 col5\" >1.880000</td>\n      <td id=\"T_db606_row7_col6\" class=\"data row7 col6\" >2.180000</td>\n      <td id=\"T_db606_row7_col7\" class=\"data row7 col7\" >45432.260000</td>\n    </tr>\n    <tr>\n      <th id=\"T_db606_level0_row8\" class=\"row_heading level0 row8\" >PM1.0</th>\n      <td id=\"T_db606_row8_col0\" class=\"data row8 col0\" >62630.000000</td>\n      <td id=\"T_db606_row8_col1\" class=\"data row8 col1\" >100.594309</td>\n      <td id=\"T_db606_row8_col2\" class=\"data row8 col2\" >922.524245</td>\n      <td id=\"T_db606_row8_col3\" class=\"data row8 col3\" >0.000000</td>\n      <td id=\"T_db606_row8_col4\" class=\"data row8 col4\" >1.280000</td>\n      <td id=\"T_db606_row8_col5\" class=\"data row8 col5\" >1.810000</td>\n      <td id=\"T_db606_row8_col6\" class=\"data row8 col6\" >2.090000</td>\n      <td id=\"T_db606_row8_col7\" class=\"data row8 col7\" >14333.690000</td>\n    </tr>\n    <tr>\n      <th id=\"T_db606_level0_row9\" class=\"row_heading level0 row9\" >NC2.5</th>\n      <td id=\"T_db606_row9_col0\" class=\"data row9 col0\" >62630.000000</td>\n      <td id=\"T_db606_row9_col1\" class=\"data row9 col1\" >80.049042</td>\n      <td id=\"T_db606_row9_col2\" class=\"data row9 col2\" >1083.383189</td>\n      <td id=\"T_db606_row9_col3\" class=\"data row9 col3\" >0.000000</td>\n      <td id=\"T_db606_row9_col4\" class=\"data row9 col4\" >0.033000</td>\n      <td id=\"T_db606_row9_col5\" class=\"data row9 col5\" >0.044000</td>\n      <td id=\"T_db606_row9_col6\" class=\"data row9 col6\" >0.051000</td>\n      <td id=\"T_db606_row9_col7\" class=\"data row9 col7\" >30026.438000</td>\n    </tr>\n    <tr>\n      <th id=\"T_db606_level0_row10\" class=\"row_heading level0 row10\" >Humidity[%]</th>\n      <td id=\"T_db606_row10_col0\" class=\"data row10 col0\" >62630.000000</td>\n      <td id=\"T_db606_row10_col1\" class=\"data row10 col1\" >48.539499</td>\n      <td id=\"T_db606_row10_col2\" class=\"data row10 col2\" >8.865367</td>\n      <td id=\"T_db606_row10_col3\" class=\"data row10 col3\" >10.740000</td>\n      <td id=\"T_db606_row10_col4\" class=\"data row10 col4\" >47.530000</td>\n      <td id=\"T_db606_row10_col5\" class=\"data row10 col5\" >50.150000</td>\n      <td id=\"T_db606_row10_col6\" class=\"data row10 col6\" >53.240000</td>\n      <td id=\"T_db606_row10_col7\" class=\"data row10 col7\" >75.200000</td>\n    </tr>\n    <tr>\n      <th id=\"T_db606_level0_row11\" class=\"row_heading level0 row11\" >Temperature[C]</th>\n      <td id=\"T_db606_row11_col0\" class=\"data row11 col0\" >62630.000000</td>\n      <td id=\"T_db606_row11_col1\" class=\"data row11 col1\" >15.970424</td>\n      <td id=\"T_db606_row11_col2\" class=\"data row11 col2\" >14.359576</td>\n      <td id=\"T_db606_row11_col3\" class=\"data row11 col3\" >-22.010000</td>\n      <td id=\"T_db606_row11_col4\" class=\"data row11 col4\" >10.994250</td>\n      <td id=\"T_db606_row11_col5\" class=\"data row11 col5\" >20.130000</td>\n      <td id=\"T_db606_row11_col6\" class=\"data row11 col6\" >25.409500</td>\n      <td id=\"T_db606_row11_col7\" class=\"data row11 col7\" >59.930000</td>\n    </tr>\n    <tr>\n      <th id=\"T_db606_level0_row12\" class=\"row_heading level0 row12\" >Fire Alarm</th>\n      <td id=\"T_db606_row12_col0\" class=\"data row12 col0\" >62630.000000</td>\n      <td id=\"T_db606_row12_col1\" class=\"data row12 col1\" >0.714626</td>\n      <td id=\"T_db606_row12_col2\" class=\"data row12 col2\" >0.451596</td>\n      <td id=\"T_db606_row12_col3\" class=\"data row12 col3\" >0.000000</td>\n      <td id=\"T_db606_row12_col4\" class=\"data row12 col4\" >0.000000</td>\n      <td id=\"T_db606_row12_col5\" class=\"data row12 col5\" >1.000000</td>\n      <td id=\"T_db606_row12_col6\" class=\"data row12 col6\" >1.000000</td>\n      <td id=\"T_db606_row12_col7\" class=\"data row12 col7\" >1.000000</td>\n    </tr>\n  </tbody>\n</table>\n"
     },
     "execution_count": 81,
     "metadata": {},
     "output_type": "execute_result"
    }
   ],
   "source": [
    "data.describe().T.sort_values(ascending = 0,by = \"mean\").style.background_gradient(cmap = \"BuGn\")\\\n",
    ".bar(subset = [\"std\"], color =\"red\").bar(subset = [\"mean\"], color =\"blue\")"
   ],
   "metadata": {
    "collapsed": false,
    "pycharm": {
     "name": "#%%\n"
    }
   }
  },
  {
   "cell_type": "markdown",
   "source": [
    "## Exploratory Data Analysis\n",
    "### Feature analysis using target value"
   ],
   "metadata": {
    "collapsed": false
   }
  },
  {
   "cell_type": "code",
   "execution_count": 82,
   "outputs": [
    {
     "data": {
      "text/plain": "<AxesSubplot:xlabel='Fire Alarm', ylabel='Count'>"
     },
     "execution_count": 82,
     "metadata": {},
     "output_type": "execute_result"
    },
    {
     "data": {
      "text/plain": "<Figure size 432x288 with 1 Axes>",
      "image/png": "[encoded data removed]"
     },
     "metadata": {},
     "output_type": "display_data"
    }
   ],
   "source": [
    "sns.set_style(\"whitegrid\")\n",
    "sns.histplot(data['Fire Alarm'])"
   ],
   "metadata": {
    "collapsed": false,
    "pycharm": {
     "name": "#%%\n"
    }
   }
  },
  {
   "cell_type": "code",
   "execution_count": 83,
   "outputs": [
    {
     "name": "stdout",
     "output_type": "stream",
     "text": [
      " one: 71.46% , zero: 28.54%\n"
     ]
    }
   ],
   "source": [
    "zeros = 100*sum(data['Fire Alarm'] == 0)/data.shape[0]\n",
    "ones = 100*sum(data['Fire Alarm'] == 1)/data.shape[0]\n",
    "print(f\" one: {round(ones,2)}% , zero: {round(zeros,2)}%\")"
   ],
   "metadata": {
    "collapsed": false,
    "pycharm": {
     "name": "#%%\n"
    }
   }
  },
  {
   "cell_type": "code",
   "execution_count": 84,
   "outputs": [
    {
     "data": {
      "text/plain": "<AxesSubplot:xlabel='eCO2[ppm]', ylabel='Density'>"
     },
     "execution_count": 84,
     "metadata": {},
     "output_type": "execute_result"
    },
    {
     "data": {
      "text/plain": "<Figure size 432x288 with 4 Axes>",
      "image/png": "[encoded data removed]"
     },
     "metadata": {},
     "output_type": "display_data"
    }
   ],
   "source": [
    "fig, axes = plt.subplots(2,2, sharex=True)\n",
    "sns.kdeplot(ax = axes[0, 0], data = data,x = 'TVOC[ppb]')\n",
    "sns.kdeplot(ax = axes[0, 1] ,data = data,x = 'eCO2[ppm]')"
   ],
   "metadata": {
    "collapsed": false,
    "pycharm": {
     "name": "#%%\n"
    }
   }
  },
  {
   "cell_type": "code",
   "execution_count": 85,
   "outputs": [
    {
     "data": {
      "text/plain": "<pandas.io.formats.style.Styler at 0x173a075ee20>",
      "text/html": "<style type=\"text/css\">\n#T_85a3f_row0_col2, #T_85a3f_row0_col7, #T_85a3f_row0_col8, #T_85a3f_row0_col9, #T_85a3f_row0_col10, #T_85a3f_row0_col11 {\n  width: 10em;\n  height: 80%;\n  background: linear-gradient(90deg,red 100.0%, transparent 100.0%);\n}\n#T_85a3f_row1_col2, #T_85a3f_row1_col7, #T_85a3f_row1_col8, #T_85a3f_row1_col9, #T_85a3f_row1_col10, #T_85a3f_row1_col11 {\n  width: 10em;\n  height: 80%;\n}\n</style>\n<table id=\"T_85a3f_\">\n  <thead>\n    <tr>\n      <th class=\"blank level0\" >&nbsp;</th>\n      <th class=\"col_heading level0 col0\" >Temperature[C]</th>\n      <th class=\"col_heading level0 col1\" >Humidity[%]</th>\n      <th class=\"col_heading level0 col2\" >TVOC[ppb]</th>\n      <th class=\"col_heading level0 col3\" >eCO2[ppm]</th>\n      <th class=\"col_heading level0 col4\" >Raw H2</th>\n      <th class=\"col_heading level0 col5\" >Raw Ethanol</th>\n      <th class=\"col_heading level0 col6\" >Pressure[hPa]</th>\n      <th class=\"col_heading level0 col7\" >PM1.0</th>\n      <th class=\"col_heading level0 col8\" >PM2.5</th>\n      <th class=\"col_heading level0 col9\" >NC0.5</th>\n      <th class=\"col_heading level0 col10\" >NC1.0</th>\n      <th class=\"col_heading level0 col11\" >NC2.5</th>\n    </tr>\n    <tr>\n      <th class=\"index_name level0\" >Fire Alarm</th>\n      <th class=\"blank col0\" >&nbsp;</th>\n      <th class=\"blank col1\" >&nbsp;</th>\n      <th class=\"blank col2\" >&nbsp;</th>\n      <th class=\"blank col3\" >&nbsp;</th>\n      <th class=\"blank col4\" >&nbsp;</th>\n      <th class=\"blank col5\" >&nbsp;</th>\n      <th class=\"blank col6\" >&nbsp;</th>\n      <th class=\"blank col7\" >&nbsp;</th>\n      <th class=\"blank col8\" >&nbsp;</th>\n      <th class=\"blank col9\" >&nbsp;</th>\n      <th class=\"blank col10\" >&nbsp;</th>\n      <th class=\"blank col11\" >&nbsp;</th>\n    </tr>\n  </thead>\n  <tbody>\n    <tr>\n      <th id=\"T_85a3f_level0_row0\" class=\"row_heading level0 row0\" >0</th>\n      <td id=\"T_85a3f_row0_col0\" class=\"data row0 col0\" >19.694803</td>\n      <td id=\"T_85a3f_row0_col1\" class=\"data row0 col1\" >42.930077</td>\n      <td id=\"T_85a3f_row0_col2\" class=\"data row0 col2\" >4596.587255</td>\n      <td id=\"T_85a3f_row0_col3\" class=\"data row0 col3\" >962.587255</td>\n      <td id=\"T_85a3f_row0_col4\" class=\"data row0 col4\" >12896.316847</td>\n      <td id=\"T_85a3f_row0_col5\" class=\"data row0 col5\" >20082.823533</td>\n      <td id=\"T_85a3f_row0_col6\" class=\"data row0 col6\" >938.101383</td>\n      <td id=\"T_85a3f_row0_col7\" class=\"data row0 col7\" >261.982706</td>\n      <td id=\"T_85a3f_row0_col8\" class=\"data row0 col8\" >450.034639</td>\n      <td id=\"T_85a3f_row0_col9\" class=\"data row0 col9\" >1356.283816</td>\n      <td id=\"T_85a3f_row0_col10\" class=\"data row0 col10\" >493.872027</td>\n      <td id=\"T_85a3f_row0_col11\" class=\"data row0 col11\" >178.982259</td>\n    </tr>\n    <tr>\n      <th id=\"T_85a3f_level0_row1\" class=\"row_heading level0 row1\" >1</th>\n      <td id=\"T_85a3f_row1_col0\" class=\"data row1 col0\" >14.483152</td>\n      <td id=\"T_85a3f_row1_col1\" class=\"data row1 col1\" >50.779534</td>\n      <td id=\"T_85a3f_row1_col2\" class=\"data row1 col2\" >882.013071</td>\n      <td id=\"T_85a3f_row1_col3\" class=\"data row1 col3\" >553.189356</td>\n      <td id=\"T_85a3f_row1_col4\" class=\"data row1 col4\" >12960.878053</td>\n      <td id=\"T_85a3f_row1_col5\" class=\"data row1 col5\" >19623.050428</td>\n      <td id=\"T_85a3f_row1_col6\" class=\"data row1 col6\" >938.837806</td>\n      <td id=\"T_85a3f_row1_col7\" class=\"data row1 col7\" >36.146406</td>\n      <td id=\"T_85a3f_row1_col8\" class=\"data row1 col8\" >78.417842</td>\n      <td id=\"T_85a3f_row1_col9\" class=\"data row1 col9\" >146.111337</td>\n      <td id=\"T_85a3f_row1_col10\" class=\"data row1 col10\" >87.665549</td>\n      <td id=\"T_85a3f_row1_col11\" class=\"data row1 col11\" >40.541627</td>\n    </tr>\n  </tbody>\n</table>\n"
     },
     "execution_count": 85,
     "metadata": {},
     "output_type": "execute_result"
    }
   ],
   "source": [
    "features = data.keys()\n",
    "features = features.drop('Fire Alarm')\n",
    "subsets = ['TVOC[ppb]','PM1.0','PM2.5','NC0.5','NC1.0','NC2.5']\n",
    "data.groupby('Fire Alarm')[features].mean().style\\\n",
    "    .bar(subset = subsets, color = \"red\")"
   ],
   "metadata": {
    "collapsed": false,
    "pycharm": {
     "name": "#%%\n"
    }
   }
  },
  {
   "cell_type": "code",
   "execution_count": 86,
   "outputs": [
    {
     "data": {
      "text/plain": "<pandas.io.formats.style.Styler at 0x173a8fe0b20>",
      "text/html": "<style type=\"text/css\">\n#T_7b942_row0_col2, #T_7b942_row0_col7, #T_7b942_row0_col8, #T_7b942_row0_col9, #T_7b942_row0_col10, #T_7b942_row0_col11 {\n  width: 10em;\n  height: 80%;\n}\n#T_7b942_row1_col2, #T_7b942_row1_col7, #T_7b942_row1_col8, #T_7b942_row1_col9, #T_7b942_row1_col10, #T_7b942_row1_col11 {\n  width: 10em;\n  height: 80%;\n  background: linear-gradient(90deg,red 100.0%, transparent 100.0%);\n}\n</style>\n<table id=\"T_7b942_\">\n  <thead>\n    <tr>\n      <th class=\"blank level0\" >&nbsp;</th>\n      <th class=\"col_heading level0 col0\" >Temperature[C]</th>\n      <th class=\"col_heading level0 col1\" >Humidity[%]</th>\n      <th class=\"col_heading level0 col2\" >TVOC[ppb]</th>\n      <th class=\"col_heading level0 col3\" >eCO2[ppm]</th>\n      <th class=\"col_heading level0 col4\" >Raw H2</th>\n      <th class=\"col_heading level0 col5\" >Raw Ethanol</th>\n      <th class=\"col_heading level0 col6\" >Pressure[hPa]</th>\n      <th class=\"col_heading level0 col7\" >PM1.0</th>\n      <th class=\"col_heading level0 col8\" >PM2.5</th>\n      <th class=\"col_heading level0 col9\" >NC0.5</th>\n      <th class=\"col_heading level0 col10\" >NC1.0</th>\n      <th class=\"col_heading level0 col11\" >NC2.5</th>\n    </tr>\n    <tr>\n      <th class=\"index_name level0\" >Fire Alarm</th>\n      <th class=\"blank col0\" >&nbsp;</th>\n      <th class=\"blank col1\" >&nbsp;</th>\n      <th class=\"blank col2\" >&nbsp;</th>\n      <th class=\"blank col3\" >&nbsp;</th>\n      <th class=\"blank col4\" >&nbsp;</th>\n      <th class=\"blank col5\" >&nbsp;</th>\n      <th class=\"blank col6\" >&nbsp;</th>\n      <th class=\"blank col7\" >&nbsp;</th>\n      <th class=\"blank col8\" >&nbsp;</th>\n      <th class=\"blank col9\" >&nbsp;</th>\n      <th class=\"blank col10\" >&nbsp;</th>\n      <th class=\"blank col11\" >&nbsp;</th>\n    </tr>\n  </thead>\n  <tbody>\n    <tr>\n      <th id=\"T_7b942_level0_row0\" class=\"row_heading level0 row0\" >0</th>\n      <td id=\"T_7b942_row0_col0\" class=\"data row0 col0\" >20.540000</td>\n      <td id=\"T_7b942_row0_col1\" class=\"data row0 col1\" >46.140000</td>\n      <td id=\"T_7b942_row0_col2\" class=\"data row0 col2\" >86.000000</td>\n      <td id=\"T_7b942_row0_col3\" class=\"data row0 col3\" >400.000000</td>\n      <td id=\"T_7b942_row0_col4\" class=\"data row0 col4\" >12837.000000</td>\n      <td id=\"T_7b942_row0_col5\" class=\"data row0 col5\" >20158.000000</td>\n      <td id=\"T_7b942_row0_col6\" class=\"data row0 col6\" >937.478000</td>\n      <td id=\"T_7b942_row0_col7\" class=\"data row0 col7\" >1.450000</td>\n      <td id=\"T_7b942_row0_col8\" class=\"data row0 col8\" >1.520000</td>\n      <td id=\"T_7b942_row0_col9\" class=\"data row0 col9\" >9.970000</td>\n      <td id=\"T_7b942_row0_col10\" class=\"data row0 col10\" >1.578000</td>\n      <td id=\"T_7b942_row0_col11\" class=\"data row0 col11\" >0.039000</td>\n    </tr>\n    <tr>\n      <th id=\"T_7b942_level0_row1\" class=\"row_heading level0 row1\" >1</th>\n      <td id=\"T_7b942_row1_col0\" class=\"data row1 col0\" >20.020000</td>\n      <td id=\"T_7b942_row1_col1\" class=\"data row1 col1\" >51.400000</td>\n      <td id=\"T_7b942_row1_col2\" class=\"data row1 col2\" >1103.000000</td>\n      <td id=\"T_7b942_row1_col3\" class=\"data row1 col3\" >404.000000</td>\n      <td id=\"T_7b942_row1_col4\" class=\"data row1 col4\" >12933.000000</td>\n      <td id=\"T_7b942_row1_col5\" class=\"data row1 col5\" >19454.000000</td>\n      <td id=\"T_7b942_row1_col6\" class=\"data row1 col6\" >938.878000</td>\n      <td id=\"T_7b942_row1_col7\" class=\"data row1 col7\" >1.870000</td>\n      <td id=\"T_7b942_row1_col8\" class=\"data row1 col8\" >1.940000</td>\n      <td id=\"T_7b942_row1_col9\" class=\"data row1 col9\" >12.860000</td>\n      <td id=\"T_7b942_row1_col10\" class=\"data row1 col10\" >2.005000</td>\n      <td id=\"T_7b942_row1_col11\" class=\"data row1 col11\" >0.045000</td>\n    </tr>\n  </tbody>\n</table>\n"
     },
     "execution_count": 86,
     "metadata": {},
     "output_type": "execute_result"
    }
   ],
   "source": [
    "data.groupby('Fire Alarm')[features].median().style\\\n",
    "    .bar(subset = subsets, color = \"red\")"
   ],
   "metadata": {
    "collapsed": false,
    "pycharm": {
     "name": "#%%\n"
    }
   }
  },
  {
   "cell_type": "code",
   "execution_count": 87,
   "outputs": [
    {
     "data": {
      "text/plain": "<AxesSubplot:>"
     },
     "execution_count": 87,
     "metadata": {},
     "output_type": "execute_result"
    },
    {
     "data": {
      "text/plain": "<Figure size 864x864 with 2 Axes>",
      "image/png": "[encoded data removed]"
     },
     "metadata": {},
     "output_type": "display_data"
    }
   ],
   "source": [
    "plt.figure(figsize = (12,12))\n",
    "sns.heatmap(data.corr(),annot = True,cmap = 'GnBu')"
   ],
   "metadata": {
    "collapsed": false,
    "pycharm": {
     "name": "#%%\n"
    }
   }
  },
  {
   "cell_type": "markdown",
   "source": [
    "Let's define high correlation >= 0.65\n",
    "We can see that PM's and NC's are highly correlated\n",
    "\n",
    "## Modelling"
   ],
   "metadata": {
    "collapsed": false,
    "pycharm": {
     "name": "#%% md\n"
    }
   }
  },
  {
   "cell_type": "code",
   "execution_count": 88,
   "outputs": [
    {
     "data": {
      "text/plain": "<bound method NDFrame.head of        Temperature[C]  Humidity[%]  TVOC[ppb]  eCO2[ppm]  Raw H2  Raw Ethanol  \\\n40143          27.140        47.02       1061        427   12876        19460   \n39764          26.720        48.53       1145        454   12870        19452   \n10007          -2.851        50.81        845        725   12770        19523   \n29934          22.280        48.84         29        400   13255        20193   \n40521          24.650        52.87       1138        427   12871        19439   \n...               ...          ...        ...        ...     ...          ...   \n4440           -4.750        54.22         94        400   13237        20118   \n26683          16.280        53.66          8        400   13142        20035   \n15290          12.453        53.06       1143        445   12868        19444   \n27306          19.930        48.60         16        400   13211        20141   \n27523          17.830        53.41         58        400   13193        20107   \n\n       Pressure[hPa]  PM1.0  PM2.5  NC0.5  NC1.0  NC2.5  \n40143        938.820   1.67   1.74  11.50  1.794  0.041  \n39764        938.874   1.99   2.06  13.68  2.133  0.048  \n10007        939.112   2.40   2.49  16.50  2.574  0.058  \n29934        939.711   2.26   2.35  15.58  2.429  0.055  \n40521        938.827   1.86   1.94  12.82  2.000  0.045  \n...              ...    ...    ...    ...    ...    ...  \n4440         939.664   2.38   2.47  16.37  2.552  0.058  \n26683        939.613   1.09   1.13   7.49  1.168  0.026  \n15290        938.806   1.91   1.99  13.16  2.052  0.046  \n27306        939.606   1.06   1.10   7.30  1.138  0.026  \n27523        939.620   1.03   1.07   7.10  1.107  0.025  \n\n[12526 rows x 12 columns]>"
     },
     "execution_count": 88,
     "metadata": {},
     "output_type": "execute_result"
    }
   ],
   "source": [
    "X = data.copy();\n",
    "X = X.drop('Fire Alarm', axis = 1)\n",
    "y = data['Fire Alarm']\n",
    "X_train, X_test, y_train,y_test = train_test_split(X, y, test_size=0.2)\n",
    "X_train.head\n",
    "X_test.head"
   ],
   "metadata": {
    "collapsed": false,
    "pycharm": {
     "name": "#%%\n"
    }
   }
  },
  {
   "cell_type": "code",
   "execution_count": 89,
   "outputs": [],
   "source": [
    "\n",
    "ss = StandardScaler()\n",
    "X_train = ss.fit_transform(X_train)\n",
    "X_test = ss.transform(X_test)"
   ],
   "metadata": {
    "collapsed": false,
    "pycharm": {
     "name": "#%%\n"
    }
   }
  },
  {
   "cell_type": "markdown",
   "source": [
    "## Implement Model"
   ],
   "metadata": {
    "collapsed": false,
    "pycharm": {
     "name": "#%% md\n"
    }
   }
  },
  {
   "cell_type": "code",
   "execution_count": 90,
   "outputs": [],
   "source": [
    "models = [KNeighborsClassifier(), SGDClassifier(), LogisticRegression(), RandomForestClassifier(), GradientBoostingClassifier(), AdaBoostClassifier(), BaggingClassifier(), SVC(), GaussianNB(), DummyClassifier(), ExtraTreeClassifier()]"
   ],
   "metadata": {
    "collapsed": false,
    "pycharm": {
     "name": "#%%\n"
    }
   }
  },
  {
   "cell_type": "code",
   "execution_count": 91,
   "outputs": [],
   "source": [
    "Name = []\n",
    "Accuracy = []\n",
    "Time_Taken = []\n",
    "for model in models:\n",
    "    Name.append(type(model).__name__)\n",
    "    begin = time.time()\n",
    "    model.fit(X_train,y_train)\n",
    "    prediction = model.predict(X_test)\n",
    "    end = time.time()\n",
    "    accScore = accuracy_score(prediction,y_test)\n",
    "    Accuracy.append(accScore)\n",
    "    Time_Taken.append(end-begin)"
   ],
   "metadata": {
    "collapsed": false,
    "pycharm": {
     "name": "#%%\n"
    }
   }
  },
  {
   "cell_type": "code",
   "execution_count": 92,
   "outputs": [
    {
     "data": {
      "text/plain": "                          Name  Accuracy  Time Taken\n0         KNeighborsClassifier  0.998483    1.441042\n1                SGDClassifier  0.910666    0.046900\n2           LogisticRegression  0.898930    0.133698\n3       RandomForestClassifier  1.000000    2.975077\n4   GradientBoostingClassifier  0.999681    7.645566\n5           AdaBoostClassifier  0.999361    1.808055\n6            BaggingClassifier  1.000000    0.820808\n7                          SVC  0.966709   18.877546\n8                   GaussianNB  0.767524    0.013962\n9              DummyClassifier  0.716989    0.000997\n10         ExtraTreeClassifier  0.998004    0.011969",
      "text/html": "<div>\n<style scoped>\n    .dataframe tbody tr th:only-of-type {\n        vertical-align: middle;\n    }\n\n    .dataframe tbody tr th {\n        vertical-align: top;\n    }\n\n    .dataframe thead th {\n        text-align: right;\n    }\n</style>\n<table border=\"1\" class=\"dataframe\">\n  <thead>\n    <tr style=\"text-align: right;\">\n      <th></th>\n      <th>Name</th>\n      <th>Accuracy</th>\n      <th>Time Taken</th>\n    </tr>\n  </thead>\n  <tbody>\n    <tr>\n      <th>0</th>\n      <td>KNeighborsClassifier</td>\n      <td>0.998483</td>\n      <td>1.441042</td>\n    </tr>\n    <tr>\n      <th>1</th>\n      <td>SGDClassifier</td>\n      <td>0.910666</td>\n      <td>0.046900</td>\n    </tr>\n    <tr>\n      <th>2</th>\n      <td>LogisticRegression</td>\n      <td>0.898930</td>\n      <td>0.133698</td>\n    </tr>\n    <tr>\n      <th>3</th>\n      <td>RandomForestClassifier</td>\n      <td>1.000000</td>\n      <td>2.975077</td>\n    </tr>\n    <tr>\n      <th>4</th>\n      <td>GradientBoostingClassifier</td>\n      <td>0.999681</td>\n      <td>7.645566</td>\n    </tr>\n    <tr>\n      <th>5</th>\n      <td>AdaBoostClassifier</td>\n      <td>0.999361</td>\n      <td>1.808055</td>\n    </tr>\n    <tr>\n      <th>6</th>\n      <td>BaggingClassifier</td>\n      <td>1.000000</td>\n      <td>0.820808</td>\n    </tr>\n    <tr>\n      <th>7</th>\n      <td>SVC</td>\n      <td>0.966709</td>\n      <td>18.877546</td>\n    </tr>\n    <tr>\n      <th>8</th>\n      <td>GaussianNB</td>\n      <td>0.767524</td>\n      <td>0.013962</td>\n    </tr>\n    <tr>\n      <th>9</th>\n      <td>DummyClassifier</td>\n      <td>0.716989</td>\n      <td>0.000997</td>\n    </tr>\n    <tr>\n      <th>10</th>\n      <td>ExtraTreeClassifier</td>\n      <td>0.998004</td>\n      <td>0.011969</td>\n    </tr>\n  </tbody>\n</table>\n</div>"
     },
     "execution_count": 92,
     "metadata": {},
     "output_type": "execute_result"
    }
   ],
   "source": [
    "Dict = {'Name':Name,'Accuracy':Accuracy,'Time Taken':Time_Taken}\n",
    "model_df = pd.DataFrame(Dict)\n",
    "model_df"
   ],
   "metadata": {
    "collapsed": false,
    "pycharm": {
     "name": "#%%\n"
    }
   }
  },
  {
   "cell_type": "code",
   "execution_count": 94,
   "outputs": [
    {
     "data": {
      "application/vnd.plotly.v1+json": {
       "data": [
        {
         "alignmentgroup": "True",
         "hovertemplate": "Name=%{x}<br>Accuracy=%{y}<extra></extra>",
         "legendgroup": "",
         "marker": {
          "color": "#636efa",
          "pattern": {
           "shape": ""
          }
         },
         "name": "",
         "offsetgroup": "",
         "orientation": "v",
         "showlegend": false,
         "textposition": "auto",
         "x": [
          "RandomForestClassifier",
          "BaggingClassifier",
          "GradientBoostingClassifier",
          "AdaBoostClassifier",
          "KNeighborsClassifier",
          "ExtraTreeClassifier",
          "SVC",
          "SGDClassifier",
          "LogisticRegression",
          "GaussianNB",
          "DummyClassifier"
         ],
         "xaxis": "x",
         "y": [
          1.0,
          1.0,
          0.9996806642184257,
          0.9993613284368513,
          0.9984831550375219,
          0.9980041513651605,
          0.9667092447708766,
          0.9106658151045824,
          0.898930225131726,
          0.7675235510138911,
          0.7169886635797541
         ],
         "yaxis": "y",
         "type": "bar"
        }
       ],
       "layout": {
        "template": {
         "data": {
          "histogram2dcontour": [
           {
            "type": "histogram2dcontour",
            "colorbar": {
             "outlinewidth": 0,
             "ticks": ""
            },
            "colorscale": [
             [
              0.0,
              "#0d0887"
             ],
             [
              0.1111111111111111,
              "#46039f"
             ],
             [
              0.2222222222222222,
              "#7201a8"
             ],
             [
              0.3333333333333333,
              "#9c179e"
             ],
             [
              0.4444444444444444,
              "#bd3786"
             ],
             [
              0.5555555555555556,
              "#d8576b"
             ],
             [
              0.6666666666666666,
              "#ed7953"
             ],
             [
              0.7777777777777778,
              "#fb9f3a"
             ],
             [
              0.8888888888888888,
              "#fdca26"
             ],
             [
              1.0,
              "#f0f921"
             ]
            ]
           }
          ],
          "choropleth": [
           {
            "type": "choropleth",
            "colorbar": {
             "outlinewidth": 0,
             "ticks": ""
            }
           }
          ],
          "histogram2d": [
           {
            "type": "histogram2d",
            "colorbar": {
             "outlinewidth": 0,
             "ticks": ""
            },
            "colorscale": [
             [
              0.0,
              "#0d0887"
             ],
             [
              0.1111111111111111,
              "#46039f"
             ],
             [
              0.2222222222222222,
              "#7201a8"
             ],
             [
              0.3333333333333333,
              "#9c179e"
             ],
             [
              0.4444444444444444,
              "#bd3786"
             ],
             [
              0.5555555555555556,
              "#d8576b"
             ],
             [
              0.6666666666666666,
              "#ed7953"
             ],
             [
              0.7777777777777778,
              "#fb9f3a"
             ],
             [
              0.8888888888888888,
              "#fdca26"
             ],
             [
              1.0,
              "#f0f921"
             ]
            ]
           }
          ],
          "heatmap": [
           {
            "type": "heatmap",
            "colorbar": {
             "outlinewidth": 0,
             "ticks": ""
            },
            "colorscale": [
             [
              0.0,
              "#0d0887"
             ],
             [
              0.1111111111111111,
              "#46039f"
             ],
             [
              0.2222222222222222,
              "#7201a8"
             ],
             [
              0.3333333333333333,
              "#9c179e"
             ],
             [
              0.4444444444444444,
              "#bd3786"
             ],
             [
              0.5555555555555556,
              "#d8576b"
             ],
             [
              0.6666666666666666,
              "#ed7953"
             ],
             [
              0.7777777777777778,
              "#fb9f3a"
             ],
             [
              0.8888888888888888,
              "#fdca26"
             ],
             [
              1.0,
              "#f0f921"
             ]
            ]
           }
          ],
          "heatmapgl": [
           {
            "type": "heatmapgl",
            "colorbar": {
             "outlinewidth": 0,
             "ticks": ""
            },
            "colorscale": [
             [
              0.0,
              "#0d0887"
             ],
             [
              0.1111111111111111,
              "#46039f"
             ],
             [
              0.2222222222222222,
              "#7201a8"
             ],
             [
              0.3333333333333333,
              "#9c179e"
             ],
             [
              0.4444444444444444,
              "#bd3786"
             ],
             [
              0.5555555555555556,
              "#d8576b"
             ],
             [
              0.6666666666666666,
              "#ed7953"
             ],
             [
              0.7777777777777778,
              "#fb9f3a"
             ],
             [
              0.8888888888888888,
              "#fdca26"
             ],
             [
              1.0,
              "#f0f921"
             ]
            ]
           }
          ],
          "contourcarpet": [
           {
            "type": "contourcarpet",
            "colorbar": {
             "outlinewidth": 0,
             "ticks": ""
            }
           }
          ],
          "contour": [
           {
            "type": "contour",
            "colorbar": {
             "outlinewidth": 0,
             "ticks": ""
            },
            "colorscale": [
             [
              0.0,
              "#0d0887"
             ],
             [
              0.1111111111111111,
              "#46039f"
             ],
             [
              0.2222222222222222,
              "#7201a8"
             ],
             [
              0.3333333333333333,
              "#9c179e"
             ],
             [
              0.4444444444444444,
              "#bd3786"
             ],
             [
              0.5555555555555556,
              "#d8576b"
             ],
             [
              0.6666666666666666,
              "#ed7953"
             ],
             [
              0.7777777777777778,
              "#fb9f3a"
             ],
             [
              0.8888888888888888,
              "#fdca26"
             ],
             [
              1.0,
              "#f0f921"
             ]
            ]
           }
          ],
          "surface": [
           {
            "type": "surface",
            "colorbar": {
             "outlinewidth": 0,
             "ticks": ""
            },
            "colorscale": [
             [
              0.0,
              "#0d0887"
             ],
             [
              0.1111111111111111,
              "#46039f"
             ],
             [
              0.2222222222222222,
              "#7201a8"
             ],
             [
              0.3333333333333333,
              "#9c179e"
             ],
             [
              0.4444444444444444,
              "#bd3786"
             ],
             [
              0.5555555555555556,
              "#d8576b"
             ],
             [
              0.6666666666666666,
              "#ed7953"
             ],
             [
              0.7777777777777778,
              "#fb9f3a"
             ],
             [
              0.8888888888888888,
              "#fdca26"
             ],
             [
              1.0,
              "#f0f921"
             ]
            ]
           }
          ],
          "mesh3d": [
           {
            "type": "mesh3d",
            "colorbar": {
             "outlinewidth": 0,
             "ticks": ""
            }
           }
          ],
          "scatter": [
           {
            "fillpattern": {
             "fillmode": "overlay",
             "size": 10,
             "solidity": 0.2
            },
            "type": "scatter"
           }
          ],
          "parcoords": [
           {
            "type": "parcoords",
            "line": {
             "colorbar": {
              "outlinewidth": 0,
              "ticks": ""
             }
            }
           }
          ],
          "scatterpolargl": [
           {
            "type": "scatterpolargl",
            "marker": {
             "colorbar": {
              "outlinewidth": 0,
              "ticks": ""
             }
            }
           }
          ],
          "bar": [
           {
            "error_x": {
             "color": "#2a3f5f"
            },
            "error_y": {
             "color": "#2a3f5f"
            },
            "marker": {
             "line": {
              "color": "#E5ECF6",
              "width": 0.5
             },
             "pattern": {
              "fillmode": "overlay",
              "size": 10,
              "solidity": 0.2
             }
            },
            "type": "bar"
           }
          ],
          "scattergeo": [
           {
            "type": "scattergeo",
            "marker": {
             "colorbar": {
              "outlinewidth": 0,
              "ticks": ""
             }
            }
           }
          ],
          "scatterpolar": [
           {
            "type": "scatterpolar",
            "marker": {
             "colorbar": {
              "outlinewidth": 0,
              "ticks": ""
             }
            }
           }
          ],
          "histogram": [
           {
            "marker": {
             "pattern": {
              "fillmode": "overlay",
              "size": 10,
              "solidity": 0.2
             }
            },
            "type": "histogram"
           }
          ],
          "scattergl": [
           {
            "type": "scattergl",
            "marker": {
             "colorbar": {
              "outlinewidth": 0,
              "ticks": ""
             }
            }
           }
          ],
          "scatter3d": [
           {
            "type": "scatter3d",
            "line": {
             "colorbar": {
              "outlinewidth": 0,
              "ticks": ""
             }
            },
            "marker": {
             "colorbar": {
              "outlinewidth": 0,
              "ticks": ""
             }
            }
           }
          ],
          "scattermapbox": [
           {
            "type": "scattermapbox",
            "marker": {
             "colorbar": {
              "outlinewidth": 0,
              "ticks": ""
             }
            }
           }
          ],
          "scatterternary": [
           {
            "type": "scatterternary",
            "marker": {
             "colorbar": {
              "outlinewidth": 0,
              "ticks": ""
             }
            }
           }
          ],
          "scattercarpet": [
           {
            "type": "scattercarpet",
            "marker": {
             "colorbar": {
              "outlinewidth": 0,
              "ticks": ""
             }
            }
           }
          ],
          "carpet": [
           {
            "aaxis": {
             "endlinecolor": "#2a3f5f",
             "gridcolor": "white",
             "linecolor": "white",
             "minorgridcolor": "white",
             "startlinecolor": "#2a3f5f"
            },
            "baxis": {
             "endlinecolor": "#2a3f5f",
             "gridcolor": "white",
             "linecolor": "white",
             "minorgridcolor": "white",
             "startlinecolor": "#2a3f5f"
            },
            "type": "carpet"
           }
          ],
          "table": [
           {
            "cells": {
             "fill": {
              "color": "#EBF0F8"
             },
             "line": {
              "color": "white"
             }
            },
            "header": {
             "fill": {
              "color": "#C8D4E3"
             },
             "line": {
              "color": "white"
             }
            },
            "type": "table"
           }
          ],
          "barpolar": [
           {
            "marker": {
             "line": {
              "color": "#E5ECF6",
              "width": 0.5
             },
             "pattern": {
              "fillmode": "overlay",
              "size": 10,
              "solidity": 0.2
             }
            },
            "type": "barpolar"
           }
          ],
          "pie": [
           {
            "automargin": true,
            "type": "pie"
           }
          ]
         },
         "layout": {
          "autotypenumbers": "strict",
          "colorway": [
           "#636efa",
           "#EF553B",
           "#00cc96",
           "#ab63fa",
           "#FFA15A",
           "#19d3f3",
           "#FF6692",
           "#B6E880",
           "#FF97FF",
           "#FECB52"
          ],
          "font": {
           "color": "#2a3f5f"
          },
          "hovermode": "closest",
          "hoverlabel": {
           "align": "left"
          },
          "paper_bgcolor": "white",
          "plot_bgcolor": "#E5ECF6",
          "polar": {
           "bgcolor": "#E5ECF6",
           "angularaxis": {
            "gridcolor": "white",
            "linecolor": "white",
            "ticks": ""
           },
           "radialaxis": {
            "gridcolor": "white",
            "linecolor": "white",
            "ticks": ""
           }
          },
          "ternary": {
           "bgcolor": "#E5ECF6",
           "aaxis": {
            "gridcolor": "white",
            "linecolor": "white",
            "ticks": ""
           },
           "baxis": {
            "gridcolor": "white",
            "linecolor": "white",
            "ticks": ""
           },
           "caxis": {
            "gridcolor": "white",
            "linecolor": "white",
            "ticks": ""
           }
          },
          "coloraxis": {
           "colorbar": {
            "outlinewidth": 0,
            "ticks": ""
           }
          },
          "colorscale": {
           "sequential": [
            [
             0.0,
             "#0d0887"
            ],
            [
             0.1111111111111111,
             "#46039f"
            ],
            [
             0.2222222222222222,
             "#7201a8"
            ],
            [
             0.3333333333333333,
             "#9c179e"
            ],
            [
             0.4444444444444444,
             "#bd3786"
            ],
            [
             0.5555555555555556,
             "#d8576b"
            ],
            [
             0.6666666666666666,
             "#ed7953"
            ],
            [
             0.7777777777777778,
             "#fb9f3a"
            ],
            [
             0.8888888888888888,
             "#fdca26"
            ],
            [
             1.0,
             "#f0f921"
            ]
           ],
           "sequentialminus": [
            [
             0.0,
             "#0d0887"
            ],
            [
             0.1111111111111111,
             "#46039f"
            ],
            [
             0.2222222222222222,
             "#7201a8"
            ],
            [
             0.3333333333333333,
             "#9c179e"
            ],
            [
             0.4444444444444444,
             "#bd3786"
            ],
            [
             0.5555555555555556,
             "#d8576b"
            ],
            [
             0.6666666666666666,
             "#ed7953"
            ],
            [
             0.7777777777777778,
             "#fb9f3a"
            ],
            [
             0.8888888888888888,
             "#fdca26"
            ],
            [
             1.0,
             "#f0f921"
            ]
           ],
           "diverging": [
            [
             0,
             "#8e0152"
            ],
            [
             0.1,
             "#c51b7d"
            ],
            [
             0.2,
             "#de77ae"
            ],
            [
             0.3,
             "#f1b6da"
            ],
            [
             0.4,
             "#fde0ef"
            ],
            [
             0.5,
             "#f7f7f7"
            ],
            [
             0.6,
             "#e6f5d0"
            ],
            [
             0.7,
             "#b8e186"
            ],
            [
             0.8,
             "#7fbc41"
            ],
            [
             0.9,
             "#4d9221"
            ],
            [
             1,
             "#276419"
            ]
           ]
          },
          "xaxis": {
           "gridcolor": "white",
           "linecolor": "white",
           "ticks": "",
           "title": {
            "standoff": 15
           },
           "zerolinecolor": "white",
           "automargin": true,
           "zerolinewidth": 2
          },
          "yaxis": {
           "gridcolor": "white",
           "linecolor": "white",
           "ticks": "",
           "title": {
            "standoff": 15
           },
           "zerolinecolor": "white",
           "automargin": true,
           "zerolinewidth": 2
          },
          "scene": {
           "xaxis": {
            "backgroundcolor": "#E5ECF6",
            "gridcolor": "white",
            "linecolor": "white",
            "showbackground": true,
            "ticks": "",
            "zerolinecolor": "white",
            "gridwidth": 2
           },
           "yaxis": {
            "backgroundcolor": "#E5ECF6",
            "gridcolor": "white",
            "linecolor": "white",
            "showbackground": true,
            "ticks": "",
            "zerolinecolor": "white",
            "gridwidth": 2
           },
           "zaxis": {
            "backgroundcolor": "#E5ECF6",
            "gridcolor": "white",
            "linecolor": "white",
            "showbackground": true,
            "ticks": "",
            "zerolinecolor": "white",
            "gridwidth": 2
           }
          },
          "shapedefaults": {
           "line": {
            "color": "#2a3f5f"
           }
          },
          "annotationdefaults": {
           "arrowcolor": "#2a3f5f",
           "arrowhead": 0,
           "arrowwidth": 1
          },
          "geo": {
           "bgcolor": "white",
           "landcolor": "#E5ECF6",
           "subunitcolor": "white",
           "showland": true,
           "showlakes": true,
           "lakecolor": "white"
          },
          "title": {
           "x": 0.05
          },
          "mapbox": {
           "style": "light"
          }
         }
        },
        "xaxis": {
         "anchor": "y",
         "domain": [
          0.0,
          1.0
         ],
         "title": {
          "text": "Name"
         }
        },
        "yaxis": {
         "anchor": "x",
         "domain": [
          0.0,
          1.0
         ],
         "title": {
          "text": "Accuracy"
         }
        },
        "legend": {
         "tracegroupgap": 0
        },
        "title": {
         "text": "Accuracy VS Model"
        },
        "barmode": "relative"
       },
       "config": {
        "plotlyServerURL": "https://plot.ly"
       }
      },
      "text/html": "<div>                            <div id=\"af932731-2921-4fad-ac2f-40a1dcf8b735\" class=\"plotly-graph-div\" style=\"height:525px; width:100%;\"></div>            <script type=\"text/javascript\">                require([\"plotly\"], function(Plotly) {                    window.PLOTLYENV=window.PLOTLYENV || {};                                    if (document.getElementById(\"af932731-2921-4fad-ac2f-40a1dcf8b735\")) {                    Plotly.newPlot(                        \"af932731-2921-4fad-ac2f-40a1dcf8b735\",                        [{\"alignmentgroup\":\"True\",\"hovertemplate\":\"Name=%{x}<br>Accuracy=%{y}<extra></extra>\",\"legendgroup\":\"\",\"marker\":{\"color\":\"#636efa\",\"pattern\":{\"shape\":\"\"}},\"name\":\"\",\"offsetgroup\":\"\",\"orientation\":\"v\",\"showlegend\":false,\"textposition\":\"auto\",\"x\":[\"RandomForestClassifier\",\"BaggingClassifier\",\"GradientBoostingClassifier\",\"AdaBoostClassifier\",\"KNeighborsClassifier\",\"ExtraTreeClassifier\",\"SVC\",\"SGDClassifier\",\"LogisticRegression\",\"GaussianNB\",\"DummyClassifier\"],\"xaxis\":\"x\",\"y\":[1.0,1.0,0.9996806642184257,0.9993613284368513,0.9984831550375219,0.9980041513651605,0.9667092447708766,0.9106658151045824,0.898930225131726,0.7675235510138911,0.7169886635797541],\"yaxis\":\"y\",\"type\":\"bar\"}],                        {\"template\":{\"data\":{\"histogram2dcontour\":[{\"type\":\"histogram2dcontour\",\"colorbar\":{\"outlinewidth\":0,\"ticks\":\"\"},\"colorscale\":[[0.0,\"#0d0887\"],[0.1111111111111111,\"#46039f\"],[0.2222222222222222,\"#7201a8\"],[0.3333333333333333,\"#9c179e\"],[0.4444444444444444,\"#bd3786\"],[0.5555555555555556,\"#d8576b\"],[0.6666666666666666,\"#ed7953\"],[0.7777777777777778,\"#fb9f3a\"],[0.8888888888888888,\"#fdca26\"],[1.0,\"#f0f921\"]]}],\"choropleth\":[{\"type\":\"choropleth\",\"colorbar\":{\"outlinewidth\":0,\"ticks\":\"\"}}],\"histogram2d\":[{\"type\":\"histogram2d\",\"colorbar\":{\"outlinewidth\":0,\"ticks\":\"\"},\"colorscale\":[[0.0,\"#0d0887\"],[0.1111111111111111,\"#46039f\"],[0.2222222222222222,\"#7201a8\"],[0.3333333333333333,\"#9c179e\"],[0.4444444444444444,\"#bd3786\"],[0.5555555555555556,\"#d8576b\"],[0.6666666666666666,\"#ed7953\"],[0.7777777777777778,\"#fb9f3a\"],[0.8888888888888888,\"#fdca26\"],[1.0,\"#f0f921\"]]}],\"heatmap\":[{\"type\":\"heatmap\",\"colorbar\":{\"outlinewidth\":0,\"ticks\":\"\"},\"colorscale\":[[0.0,\"#0d0887\"],[0.1111111111111111,\"#46039f\"],[0.2222222222222222,\"#7201a8\"],[0.3333333333333333,\"#9c179e\"],[0.4444444444444444,\"#bd3786\"],[0.5555555555555556,\"#d8576b\"],[0.6666666666666666,\"#ed7953\"],[0.7777777777777778,\"#fb9f3a\"],[0.8888888888888888,\"#fdca26\"],[1.0,\"#f0f921\"]]}],\"heatmapgl\":[{\"type\":\"heatmapgl\",\"colorbar\":{\"outlinewidth\":0,\"ticks\":\"\"},\"colorscale\":[[0.0,\"#0d0887\"],[0.1111111111111111,\"#46039f\"],[0.2222222222222222,\"#7201a8\"],[0.3333333333333333,\"#9c179e\"],[0.4444444444444444,\"#bd3786\"],[0.5555555555555556,\"#d8576b\"],[0.6666666666666666,\"#ed7953\"],[0.7777777777777778,\"#fb9f3a\"],[0.8888888888888888,\"#fdca26\"],[1.0,\"#f0f921\"]]}],\"contourcarpet\":[{\"type\":\"contourcarpet\",\"colorbar\":{\"outlinewidth\":0,\"ticks\":\"\"}}],\"contour\":[{\"type\":\"contour\",\"colorbar\":{\"outlinewidth\":0,\"ticks\":\"\"},\"colorscale\":[[0.0,\"#0d0887\"],[0.1111111111111111,\"#46039f\"],[0.2222222222222222,\"#7201a8\"],[0.3333333333333333,\"#9c179e\"],[0.4444444444444444,\"#bd3786\"],[0.5555555555555556,\"#d8576b\"],[0.6666666666666666,\"#ed7953\"],[0.7777777777777778,\"#fb9f3a\"],[0.8888888888888888,\"#fdca26\"],[1.0,\"#f0f921\"]]}],\"surface\":[{\"type\":\"surface\",\"colorbar\":{\"outlinewidth\":0,\"ticks\":\"\"},\"colorscale\":[[0.0,\"#0d0887\"],[0.1111111111111111,\"#46039f\"],[0.2222222222222222,\"#7201a8\"],[0.3333333333333333,\"#9c179e\"],[0.4444444444444444,\"#bd3786\"],[0.5555555555555556,\"#d8576b\"],[0.6666666666666666,\"#ed7953\"],[0.7777777777777778,\"#fb9f3a\"],[0.8888888888888888,\"#fdca26\"],[1.0,\"#f0f921\"]]}],\"mesh3d\":[{\"type\":\"mesh3d\",\"colorbar\":{\"outlinewidth\":0,\"ticks\":\"\"}}],\"scatter\":[{\"fillpattern\":{\"fillmode\":\"overlay\",\"size\":10,\"solidity\":0.2},\"type\":\"scatter\"}],\"parcoords\":[{\"type\":\"parcoords\",\"line\":{\"colorbar\":{\"outlinewidth\":0,\"ticks\":\"\"}}}],\"scatterpolargl\":[{\"type\":\"scatterpolargl\",\"marker\":{\"colorbar\":{\"outlinewidth\":0,\"ticks\":\"\"}}}],\"bar\":[{\"error_x\":{\"color\":\"#2a3f5f\"},\"error_y\":{\"color\":\"#2a3f5f\"},\"marker\":{\"line\":{\"color\":\"#E5ECF6\",\"width\":0.5},\"pattern\":{\"fillmode\":\"overlay\",\"size\":10,\"solidity\":0.2}},\"type\":\"bar\"}],\"scattergeo\":[{\"type\":\"scattergeo\",\"marker\":{\"colorbar\":{\"outlinewidth\":0,\"ticks\":\"\"}}}],\"scatterpolar\":[{\"type\":\"scatterpolar\",\"marker\":{\"colorbar\":{\"outlinewidth\":0,\"ticks\":\"\"}}}],\"histogram\":[{\"marker\":{\"pattern\":{\"fillmode\":\"overlay\",\"size\":10,\"solidity\":0.2}},\"type\":\"histogram\"}],\"scattergl\":[{\"type\":\"scattergl\",\"marker\":{\"colorbar\":{\"outlinewidth\":0,\"ticks\":\"\"}}}],\"scatter3d\":[{\"type\":\"scatter3d\",\"line\":{\"colorbar\":{\"outlinewidth\":0,\"ticks\":\"\"}},\"marker\":{\"colorbar\":{\"outlinewidth\":0,\"ticks\":\"\"}}}],\"scattermapbox\":[{\"type\":\"scattermapbox\",\"marker\":{\"colorbar\":{\"outlinewidth\":0,\"ticks\":\"\"}}}],\"scatterternary\":[{\"type\":\"scatterternary\",\"marker\":{\"colorbar\":{\"outlinewidth\":0,\"ticks\":\"\"}}}],\"scattercarpet\":[{\"type\":\"scattercarpet\",\"marker\":{\"colorbar\":{\"outlinewidth\":0,\"ticks\":\"\"}}}],\"carpet\":[{\"aaxis\":{\"endlinecolor\":\"#2a3f5f\",\"gridcolor\":\"white\",\"linecolor\":\"white\",\"minorgridcolor\":\"white\",\"startlinecolor\":\"#2a3f5f\"},\"baxis\":{\"endlinecolor\":\"#2a3f5f\",\"gridcolor\":\"white\",\"linecolor\":\"white\",\"minorgridcolor\":\"white\",\"startlinecolor\":\"#2a3f5f\"},\"type\":\"carpet\"}],\"table\":[{\"cells\":{\"fill\":{\"color\":\"#EBF0F8\"},\"line\":{\"color\":\"white\"}},\"header\":{\"fill\":{\"color\":\"#C8D4E3\"},\"line\":{\"color\":\"white\"}},\"type\":\"table\"}],\"barpolar\":[{\"marker\":{\"line\":{\"color\":\"#E5ECF6\",\"width\":0.5},\"pattern\":{\"fillmode\":\"overlay\",\"size\":10,\"solidity\":0.2}},\"type\":\"barpolar\"}],\"pie\":[{\"automargin\":true,\"type\":\"pie\"}]},\"layout\":{\"autotypenumbers\":\"strict\",\"colorway\":[\"#636efa\",\"#EF553B\",\"#00cc96\",\"#ab63fa\",\"#FFA15A\",\"#19d3f3\",\"#FF6692\",\"#B6E880\",\"#FF97FF\",\"#FECB52\"],\"font\":{\"color\":\"#2a3f5f\"},\"hovermode\":\"closest\",\"hoverlabel\":{\"align\":\"left\"},\"paper_bgcolor\":\"white\",\"plot_bgcolor\":\"#E5ECF6\",\"polar\":{\"bgcolor\":\"#E5ECF6\",\"angularaxis\":{\"gridcolor\":\"white\",\"linecolor\":\"white\",\"ticks\":\"\"},\"radialaxis\":{\"gridcolor\":\"white\",\"linecolor\":\"white\",\"ticks\":\"\"}},\"ternary\":{\"bgcolor\":\"#E5ECF6\",\"aaxis\":{\"gridcolor\":\"white\",\"linecolor\":\"white\",\"ticks\":\"\"},\"baxis\":{\"gridcolor\":\"white\",\"linecolor\":\"white\",\"ticks\":\"\"},\"caxis\":{\"gridcolor\":\"white\",\"linecolor\":\"white\",\"ticks\":\"\"}},\"coloraxis\":{\"colorbar\":{\"outlinewidth\":0,\"ticks\":\"\"}},\"colorscale\":{\"sequential\":[[0.0,\"#0d0887\"],[0.1111111111111111,\"#46039f\"],[0.2222222222222222,\"#7201a8\"],[0.3333333333333333,\"#9c179e\"],[0.4444444444444444,\"#bd3786\"],[0.5555555555555556,\"#d8576b\"],[0.6666666666666666,\"#ed7953\"],[0.7777777777777778,\"#fb9f3a\"],[0.8888888888888888,\"#fdca26\"],[1.0,\"#f0f921\"]],\"sequentialminus\":[[0.0,\"#0d0887\"],[0.1111111111111111,\"#46039f\"],[0.2222222222222222,\"#7201a8\"],[0.3333333333333333,\"#9c179e\"],[0.4444444444444444,\"#bd3786\"],[0.5555555555555556,\"#d8576b\"],[0.6666666666666666,\"#ed7953\"],[0.7777777777777778,\"#fb9f3a\"],[0.8888888888888888,\"#fdca26\"],[1.0,\"#f0f921\"]],\"diverging\":[[0,\"#8e0152\"],[0.1,\"#c51b7d\"],[0.2,\"#de77ae\"],[0.3,\"#f1b6da\"],[0.4,\"#fde0ef\"],[0.5,\"#f7f7f7\"],[0.6,\"#e6f5d0\"],[0.7,\"#b8e186\"],[0.8,\"#7fbc41\"],[0.9,\"#4d9221\"],[1,\"#276419\"]]},\"xaxis\":{\"gridcolor\":\"white\",\"linecolor\":\"white\",\"ticks\":\"\",\"title\":{\"standoff\":15},\"zerolinecolor\":\"white\",\"automargin\":true,\"zerolinewidth\":2},\"yaxis\":{\"gridcolor\":\"white\",\"linecolor\":\"white\",\"ticks\":\"\",\"title\":{\"standoff\":15},\"zerolinecolor\":\"white\",\"automargin\":true,\"zerolinewidth\":2},\"scene\":{\"xaxis\":{\"backgroundcolor\":\"#E5ECF6\",\"gridcolor\":\"white\",\"linecolor\":\"white\",\"showbackground\":true,\"ticks\":\"\",\"zerolinecolor\":\"white\",\"gridwidth\":2},\"yaxis\":{\"backgroundcolor\":\"#E5ECF6\",\"gridcolor\":\"white\",\"linecolor\":\"white\",\"showbackground\":true,\"ticks\":\"\",\"zerolinecolor\":\"white\",\"gridwidth\":2},\"zaxis\":{\"backgroundcolor\":\"#E5ECF6\",\"gridcolor\":\"white\",\"linecolor\":\"white\",\"showbackground\":true,\"ticks\":\"\",\"zerolinecolor\":\"white\",\"gridwidth\":2}},\"shapedefaults\":{\"line\":{\"color\":\"#2a3f5f\"}},\"annotationdefaults\":{\"arrowcolor\":\"#2a3f5f\",\"arrowhead\":0,\"arrowwidth\":1},\"geo\":{\"bgcolor\":\"white\",\"landcolor\":\"#E5ECF6\",\"subunitcolor\":\"white\",\"showland\":true,\"showlakes\":true,\"lakecolor\":\"white\"},\"title\":{\"x\":0.05},\"mapbox\":{\"style\":\"light\"}}},\"xaxis\":{\"anchor\":\"y\",\"domain\":[0.0,1.0],\"title\":{\"text\":\"Name\"}},\"yaxis\":{\"anchor\":\"x\",\"domain\":[0.0,1.0],\"title\":{\"text\":\"Accuracy\"}},\"legend\":{\"tracegroupgap\":0},\"title\":{\"text\":\"Accuracy VS Model\"},\"barmode\":\"relative\"},                        {\"responsive\": true}                    ).then(function(){\n                            \nvar gd = document.getElementById('af932731-2921-4fad-ac2f-40a1dcf8b735');\nvar x = new MutationObserver(function (mutations, observer) {{\n        var display = window.getComputedStyle(gd).display;\n        if (!display || display === 'none') {{\n            console.log([gd, 'removed!']);\n            Plotly.purge(gd);\n            observer.disconnect();\n        }}\n}});\n\n// Listen for the removal of the full notebook cells\nvar notebookContainer = gd.closest('#notebook-container');\nif (notebookContainer) {{\n    x.observe(notebookContainer, {childList: true});\n}}\n\n// Listen for the clearing of the current output cell\nvar outputEl = gd.closest('.output');\nif (outputEl) {{\n    x.observe(outputEl, {childList: true});\n}}\n\n                        })                };                });            </script>        </div>"
     },
     "metadata": {},
     "output_type": "display_data"
    }
   ],
   "source": [
    "model_df.sort_values(by = 'Accuracy',ascending = False,inplace = True)\n",
    "fig = px.bar(model_df, x=\"Name\", y=\"Accuracy\", title='Accuracy VS Model')\n",
    "fig.show()"
   ],
   "metadata": {
    "collapsed": false,
    "pycharm": {
     "name": "#%%\n"
    }
   }
  },
  {
   "cell_type": "code",
   "execution_count": 95,
   "outputs": [
    {
     "data": {
      "application/vnd.plotly.v1+json": {
       "data": [
        {
         "alignmentgroup": "True",
         "hovertemplate": "Name=%{x}<br>Time Taken=%{y}<extra></extra>",
         "legendgroup": "",
         "marker": {
          "color": "#636efa",
          "pattern": {
           "shape": ""
          }
         },
         "name": "",
         "offsetgroup": "",
         "orientation": "v",
         "showlegend": false,
         "textposition": "auto",
         "x": [
          "SVC",
          "GradientBoostingClassifier",
          "RandomForestClassifier",
          "AdaBoostClassifier",
          "KNeighborsClassifier",
          "BaggingClassifier",
          "LogisticRegression",
          "SGDClassifier",
          "GaussianNB",
          "ExtraTreeClassifier",
          "DummyClassifier"
         ],
         "xaxis": "x",
         "y": [
          18.877545833587646,
          7.64556622505188,
          2.975076675415039,
          1.8080551624298096,
          1.4410419464111328,
          0.8208084106445312,
          0.133697509765625,
          0.04689979553222656,
          0.013962268829345703,
          0.011968851089477539,
          9.970664978027344E-4
         ],
         "yaxis": "y",
         "type": "bar"
        }
       ],
       "layout": {
        "template": {
         "data": {
          "histogram2dcontour": [
           {
            "type": "histogram2dcontour",
            "colorbar": {
             "outlinewidth": 0,
             "ticks": ""
            },
            "colorscale": [
             [
              0.0,
              "#0d0887"
             ],
             [
              0.1111111111111111,
              "#46039f"
             ],
             [
              0.2222222222222222,
              "#7201a8"
             ],
             [
              0.3333333333333333,
              "#9c179e"
             ],
             [
              0.4444444444444444,
              "#bd3786"
             ],
             [
              0.5555555555555556,
              "#d8576b"
             ],
             [
              0.6666666666666666,
              "#ed7953"
             ],
             [
              0.7777777777777778,
              "#fb9f3a"
             ],
             [
              0.8888888888888888,
              "#fdca26"
             ],
             [
              1.0,
              "#f0f921"
             ]
            ]
           }
          ],
          "choropleth": [
           {
            "type": "choropleth",
            "colorbar": {
             "outlinewidth": 0,
             "ticks": ""
            }
           }
          ],
          "histogram2d": [
           {
            "type": "histogram2d",
            "colorbar": {
             "outlinewidth": 0,
             "ticks": ""
            },
            "colorscale": [
             [
              0.0,
              "#0d0887"
             ],
             [
              0.1111111111111111,
              "#46039f"
             ],
             [
              0.2222222222222222,
              "#7201a8"
             ],
             [
              0.3333333333333333,
              "#9c179e"
             ],
             [
              0.4444444444444444,
              "#bd3786"
             ],
             [
              0.5555555555555556,
              "#d8576b"
             ],
             [
              0.6666666666666666,
              "#ed7953"
             ],
             [
              0.7777777777777778,
              "#fb9f3a"
             ],
             [
              0.8888888888888888,
              "#fdca26"
             ],
             [
              1.0,
              "#f0f921"
             ]
            ]
           }
          ],
          "heatmap": [
           {
            "type": "heatmap",
            "colorbar": {
             "outlinewidth": 0,
             "ticks": ""
            },
            "colorscale": [
             [
              0.0,
              "#0d0887"
             ],
             [
              0.1111111111111111,
              "#46039f"
             ],
             [
              0.2222222222222222,
              "#7201a8"
             ],
             [
              0.3333333333333333,
              "#9c179e"
             ],
             [
              0.4444444444444444,
              "#bd3786"
             ],
             [
              0.5555555555555556,
              "#d8576b"
             ],
             [
              0.6666666666666666,
              "#ed7953"
             ],
             [
              0.7777777777777778,
              "#fb9f3a"
             ],
             [
              0.8888888888888888,
              "#fdca26"
             ],
             [
              1.0,
              "#f0f921"
             ]
            ]
           }
          ],
          "heatmapgl": [
           {
            "type": "heatmapgl",
            "colorbar": {
             "outlinewidth": 0,
             "ticks": ""
            },
            "colorscale": [
             [
              0.0,
              "#0d0887"
             ],
             [
              0.1111111111111111,
              "#46039f"
             ],
             [
              0.2222222222222222,
              "#7201a8"
             ],
             [
              0.3333333333333333,
              "#9c179e"
             ],
             [
              0.4444444444444444,
              "#bd3786"
             ],
             [
              0.5555555555555556,
              "#d8576b"
             ],
             [
              0.6666666666666666,
              "#ed7953"
             ],
             [
              0.7777777777777778,
              "#fb9f3a"
             ],
             [
              0.8888888888888888,
              "#fdca26"
             ],
             [
              1.0,
              "#f0f921"
             ]
            ]
           }
          ],
          "contourcarpet": [
           {
            "type": "contourcarpet",
            "colorbar": {
             "outlinewidth": 0,
             "ticks": ""
            }
           }
          ],
          "contour": [
           {
            "type": "contour",
            "colorbar": {
             "outlinewidth": 0,
             "ticks": ""
            },
            "colorscale": [
             [
              0.0,
              "#0d0887"
             ],
             [
              0.1111111111111111,
              "#46039f"
             ],
             [
              0.2222222222222222,
              "#7201a8"
             ],
             [
              0.3333333333333333,
              "#9c179e"
             ],
             [
              0.4444444444444444,
              "#bd3786"
             ],
             [
              0.5555555555555556,
              "#d8576b"
             ],
             [
              0.6666666666666666,
              "#ed7953"
             ],
             [
              0.7777777777777778,
              "#fb9f3a"
             ],
             [
              0.8888888888888888,
              "#fdca26"
             ],
             [
              1.0,
              "#f0f921"
             ]
            ]
           }
          ],
          "surface": [
           {
            "type": "surface",
            "colorbar": {
             "outlinewidth": 0,
             "ticks": ""
            },
            "colorscale": [
             [
              0.0,
              "#0d0887"
             ],
             [
              0.1111111111111111,
              "#46039f"
             ],
             [
              0.2222222222222222,
              "#7201a8"
             ],
             [
              0.3333333333333333,
              "#9c179e"
             ],
             [
              0.4444444444444444,
              "#bd3786"
             ],
             [
              0.5555555555555556,
              "#d8576b"
             ],
             [
              0.6666666666666666,
              "#ed7953"
             ],
             [
              0.7777777777777778,
              "#fb9f3a"
             ],
             [
              0.8888888888888888,
              "#fdca26"
             ],
             [
              1.0,
              "#f0f921"
             ]
            ]
           }
          ],
          "mesh3d": [
           {
            "type": "mesh3d",
            "colorbar": {
             "outlinewidth": 0,
             "ticks": ""
            }
           }
          ],
          "scatter": [
           {
            "fillpattern": {
             "fillmode": "overlay",
             "size": 10,
             "solidity": 0.2
            },
            "type": "scatter"
           }
          ],
          "parcoords": [
           {
            "type": "parcoords",
            "line": {
             "colorbar": {
              "outlinewidth": 0,
              "ticks": ""
             }
            }
           }
          ],
          "scatterpolargl": [
           {
            "type": "scatterpolargl",
            "marker": {
             "colorbar": {
              "outlinewidth": 0,
              "ticks": ""
             }
            }
           }
          ],
          "bar": [
           {
            "error_x": {
             "color": "#2a3f5f"
            },
            "error_y": {
             "color": "#2a3f5f"
            },
            "marker": {
             "line": {
              "color": "#E5ECF6",
              "width": 0.5
             },
             "pattern": {
              "fillmode": "overlay",
              "size": 10,
              "solidity": 0.2
             }
            },
            "type": "bar"
           }
          ],
          "scattergeo": [
           {
            "type": "scattergeo",
            "marker": {
             "colorbar": {
              "outlinewidth": 0,
              "ticks": ""
             }
            }
           }
          ],
          "scatterpolar": [
           {
            "type": "scatterpolar",
            "marker": {
             "colorbar": {
              "outlinewidth": 0,
              "ticks": ""
             }
            }
           }
          ],
          "histogram": [
           {
            "marker": {
             "pattern": {
              "fillmode": "overlay",
              "size": 10,
              "solidity": 0.2
             }
            },
            "type": "histogram"
           }
          ],
          "scattergl": [
           {
            "type": "scattergl",
            "marker": {
             "colorbar": {
              "outlinewidth": 0,
              "ticks": ""
             }
            }
           }
          ],
          "scatter3d": [
           {
            "type": "scatter3d",
            "line": {
             "colorbar": {
              "outlinewidth": 0,
              "ticks": ""
             }
            },
            "marker": {
             "colorbar": {
              "outlinewidth": 0,
              "ticks": ""
             }
            }
           }
          ],
          "scattermapbox": [
           {
            "type": "scattermapbox",
            "marker": {
             "colorbar": {
              "outlinewidth": 0,
              "ticks": ""
             }
            }
           }
          ],
          "scatterternary": [
           {
            "type": "scatterternary",
            "marker": {
             "colorbar": {
              "outlinewidth": 0,
              "ticks": ""
             }
            }
           }
          ],
          "scattercarpet": [
           {
            "type": "scattercarpet",
            "marker": {
             "colorbar": {
              "outlinewidth": 0,
              "ticks": ""
             }
            }
           }
          ],
          "carpet": [
           {
            "aaxis": {
             "endlinecolor": "#2a3f5f",
             "gridcolor": "white",
             "linecolor": "white",
             "minorgridcolor": "white",
             "startlinecolor": "#2a3f5f"
            },
            "baxis": {
             "endlinecolor": "#2a3f5f",
             "gridcolor": "white",
             "linecolor": "white",
             "minorgridcolor": "white",
             "startlinecolor": "#2a3f5f"
            },
            "type": "carpet"
           }
          ],
          "table": [
           {
            "cells": {
             "fill": {
              "color": "#EBF0F8"
             },
             "line": {
              "color": "white"
             }
            },
            "header": {
             "fill": {
              "color": "#C8D4E3"
             },
             "line": {
              "color": "white"
             }
            },
            "type": "table"
           }
          ],
          "barpolar": [
           {
            "marker": {
             "line": {
              "color": "#E5ECF6",
              "width": 0.5
             },
             "pattern": {
              "fillmode": "overlay",
              "size": 10,
              "solidity": 0.2
             }
            },
            "type": "barpolar"
           }
          ],
          "pie": [
           {
            "automargin": true,
            "type": "pie"
           }
          ]
         },
         "layout": {
          "autotypenumbers": "strict",
          "colorway": [
           "#636efa",
           "#EF553B",
           "#00cc96",
           "#ab63fa",
           "#FFA15A",
           "#19d3f3",
           "#FF6692",
           "#B6E880",
           "#FF97FF",
           "#FECB52"
          ],
          "font": {
           "color": "#2a3f5f"
          },
          "hovermode": "closest",
          "hoverlabel": {
           "align": "left"
          },
          "paper_bgcolor": "white",
          "plot_bgcolor": "#E5ECF6",
          "polar": {
           "bgcolor": "#E5ECF6",
           "angularaxis": {
            "gridcolor": "white",
            "linecolor": "white",
            "ticks": ""
           },
           "radialaxis": {
            "gridcolor": "white",
            "linecolor": "white",
            "ticks": ""
           }
          },
          "ternary": {
           "bgcolor": "#E5ECF6",
           "aaxis": {
            "gridcolor": "white",
            "linecolor": "white",
            "ticks": ""
           },
           "baxis": {
            "gridcolor": "white",
            "linecolor": "white",
            "ticks": ""
           },
           "caxis": {
            "gridcolor": "white",
            "linecolor": "white",
            "ticks": ""
           }
          },
          "coloraxis": {
           "colorbar": {
            "outlinewidth": 0,
            "ticks": ""
           }
          },
          "colorscale": {
           "sequential": [
            [
             0.0,
             "#0d0887"
            ],
            [
             0.1111111111111111,
             "#46039f"
            ],
            [
             0.2222222222222222,
             "#7201a8"
            ],
            [
             0.3333333333333333,
             "#9c179e"
            ],
            [
             0.4444444444444444,
             "#bd3786"
            ],
            [
             0.5555555555555556,
             "#d8576b"
            ],
            [
             0.6666666666666666,
             "#ed7953"
            ],
            [
             0.7777777777777778,
             "#fb9f3a"
            ],
            [
             0.8888888888888888,
             "#fdca26"
            ],
            [
             1.0,
             "#f0f921"
            ]
           ],
           "sequentialminus": [
            [
             0.0,
             "#0d0887"
            ],
            [
             0.1111111111111111,
             "#46039f"
            ],
            [
             0.2222222222222222,
             "#7201a8"
            ],
            [
             0.3333333333333333,
             "#9c179e"
            ],
            [
             0.4444444444444444,
             "#bd3786"
            ],
            [
             0.5555555555555556,
             "#d8576b"
            ],
            [
             0.6666666666666666,
             "#ed7953"
            ],
            [
             0.7777777777777778,
             "#fb9f3a"
            ],
            [
             0.8888888888888888,
             "#fdca26"
            ],
            [
             1.0,
             "#f0f921"
            ]
           ],
           "diverging": [
            [
             0,
             "#8e0152"
            ],
            [
             0.1,
             "#c51b7d"
            ],
            [
             0.2,
             "#de77ae"
            ],
            [
             0.3,
             "#f1b6da"
            ],
            [
             0.4,
             "#fde0ef"
            ],
            [
             0.5,
             "#f7f7f7"
            ],
            [
             0.6,
             "#e6f5d0"
            ],
            [
             0.7,
             "#b8e186"
            ],
            [
             0.8,
             "#7fbc41"
            ],
            [
             0.9,
             "#4d9221"
            ],
            [
             1,
             "#276419"
            ]
           ]
          },
          "xaxis": {
           "gridcolor": "white",
           "linecolor": "white",
           "ticks": "",
           "title": {
            "standoff": 15
           },
           "zerolinecolor": "white",
           "automargin": true,
           "zerolinewidth": 2
          },
          "yaxis": {
           "gridcolor": "white",
           "linecolor": "white",
           "ticks": "",
           "title": {
            "standoff": 15
           },
           "zerolinecolor": "white",
           "automargin": true,
           "zerolinewidth": 2
          },
          "scene": {
           "xaxis": {
            "backgroundcolor": "#E5ECF6",
            "gridcolor": "white",
            "linecolor": "white",
            "showbackground": true,
            "ticks": "",
            "zerolinecolor": "white",
            "gridwidth": 2
           },
           "yaxis": {
            "backgroundcolor": "#E5ECF6",
            "gridcolor": "white",
            "linecolor": "white",
            "showbackground": true,
            "ticks": "",
            "zerolinecolor": "white",
            "gridwidth": 2
           },
           "zaxis": {
            "backgroundcolor": "#E5ECF6",
            "gridcolor": "white",
            "linecolor": "white",
            "showbackground": true,
            "ticks": "",
            "zerolinecolor": "white",
            "gridwidth": 2
           }
          },
          "shapedefaults": {
           "line": {
            "color": "#2a3f5f"
           }
          },
          "annotationdefaults": {
           "arrowcolor": "#2a3f5f",
           "arrowhead": 0,
           "arrowwidth": 1
          },
          "geo": {
           "bgcolor": "white",
           "landcolor": "#E5ECF6",
           "subunitcolor": "white",
           "showland": true,
           "showlakes": true,
           "lakecolor": "white"
          },
          "title": {
           "x": 0.05
          },
          "mapbox": {
           "style": "light"
          }
         }
        },
        "xaxis": {
         "anchor": "y",
         "domain": [
          0.0,
          1.0
         ],
         "title": {
          "text": "Name"
         }
        },
        "yaxis": {
         "anchor": "x",
         "domain": [
          0.0,
          1.0
         ],
         "title": {
          "text": "Time Taken"
         }
        },
        "legend": {
         "tracegroupgap": 0
        },
        "title": {
         "text": "Time Taken VS Model"
        },
        "barmode": "relative"
       },
       "config": {
        "plotlyServerURL": "https://plot.ly"
       }
      },
      "text/html": "<div>                            <div id=\"9703dabb-76fa-4d0d-b7c8-f7f6fa505ed2\" class=\"plotly-graph-div\" style=\"height:525px; width:100%;\"></div>            <script type=\"text/javascript\">                require([\"plotly\"], function(Plotly) {                    window.PLOTLYENV=window.PLOTLYENV || {};                                    if (document.getElementById(\"9703dabb-76fa-4d0d-b7c8-f7f6fa505ed2\")) {                    Plotly.newPlot(                        \"9703dabb-76fa-4d0d-b7c8-f7f6fa505ed2\",                        [{\"alignmentgroup\":\"True\",\"hovertemplate\":\"Name=%{x}<br>Time Taken=%{y}<extra></extra>\",\"legendgroup\":\"\",\"marker\":{\"color\":\"#636efa\",\"pattern\":{\"shape\":\"\"}},\"name\":\"\",\"offsetgroup\":\"\",\"orientation\":\"v\",\"showlegend\":false,\"textposition\":\"auto\",\"x\":[\"SVC\",\"GradientBoostingClassifier\",\"RandomForestClassifier\",\"AdaBoostClassifier\",\"KNeighborsClassifier\",\"BaggingClassifier\",\"LogisticRegression\",\"SGDClassifier\",\"GaussianNB\",\"ExtraTreeClassifier\",\"DummyClassifier\"],\"xaxis\":\"x\",\"y\":[18.877545833587646,7.64556622505188,2.975076675415039,1.8080551624298096,1.4410419464111328,0.8208084106445312,0.133697509765625,0.04689979553222656,0.013962268829345703,0.011968851089477539,0.0009970664978027344],\"yaxis\":\"y\",\"type\":\"bar\"}],                        {\"template\":{\"data\":{\"histogram2dcontour\":[{\"type\":\"histogram2dcontour\",\"colorbar\":{\"outlinewidth\":0,\"ticks\":\"\"},\"colorscale\":[[0.0,\"#0d0887\"],[0.1111111111111111,\"#46039f\"],[0.2222222222222222,\"#7201a8\"],[0.3333333333333333,\"#9c179e\"],[0.4444444444444444,\"#bd3786\"],[0.5555555555555556,\"#d8576b\"],[0.6666666666666666,\"#ed7953\"],[0.7777777777777778,\"#fb9f3a\"],[0.8888888888888888,\"#fdca26\"],[1.0,\"#f0f921\"]]}],\"choropleth\":[{\"type\":\"choropleth\",\"colorbar\":{\"outlinewidth\":0,\"ticks\":\"\"}}],\"histogram2d\":[{\"type\":\"histogram2d\",\"colorbar\":{\"outlinewidth\":0,\"ticks\":\"\"},\"colorscale\":[[0.0,\"#0d0887\"],[0.1111111111111111,\"#46039f\"],[0.2222222222222222,\"#7201a8\"],[0.3333333333333333,\"#9c179e\"],[0.4444444444444444,\"#bd3786\"],[0.5555555555555556,\"#d8576b\"],[0.6666666666666666,\"#ed7953\"],[0.7777777777777778,\"#fb9f3a\"],[0.8888888888888888,\"#fdca26\"],[1.0,\"#f0f921\"]]}],\"heatmap\":[{\"type\":\"heatmap\",\"colorbar\":{\"outlinewidth\":0,\"ticks\":\"\"},\"colorscale\":[[0.0,\"#0d0887\"],[0.1111111111111111,\"#46039f\"],[0.2222222222222222,\"#7201a8\"],[0.3333333333333333,\"#9c179e\"],[0.4444444444444444,\"#bd3786\"],[0.5555555555555556,\"#d8576b\"],[0.6666666666666666,\"#ed7953\"],[0.7777777777777778,\"#fb9f3a\"],[0.8888888888888888,\"#fdca26\"],[1.0,\"#f0f921\"]]}],\"heatmapgl\":[{\"type\":\"heatmapgl\",\"colorbar\":{\"outlinewidth\":0,\"ticks\":\"\"},\"colorscale\":[[0.0,\"#0d0887\"],[0.1111111111111111,\"#46039f\"],[0.2222222222222222,\"#7201a8\"],[0.3333333333333333,\"#9c179e\"],[0.4444444444444444,\"#bd3786\"],[0.5555555555555556,\"#d8576b\"],[0.6666666666666666,\"#ed7953\"],[0.7777777777777778,\"#fb9f3a\"],[0.8888888888888888,\"#fdca26\"],[1.0,\"#f0f921\"]]}],\"contourcarpet\":[{\"type\":\"contourcarpet\",\"colorbar\":{\"outlinewidth\":0,\"ticks\":\"\"}}],\"contour\":[{\"type\":\"contour\",\"colorbar\":{\"outlinewidth\":0,\"ticks\":\"\"},\"colorscale\":[[0.0,\"#0d0887\"],[0.1111111111111111,\"#46039f\"],[0.2222222222222222,\"#7201a8\"],[0.3333333333333333,\"#9c179e\"],[0.4444444444444444,\"#bd3786\"],[0.5555555555555556,\"#d8576b\"],[0.6666666666666666,\"#ed7953\"],[0.7777777777777778,\"#fb9f3a\"],[0.8888888888888888,\"#fdca26\"],[1.0,\"#f0f921\"]]}],\"surface\":[{\"type\":\"surface\",\"colorbar\":{\"outlinewidth\":0,\"ticks\":\"\"},\"colorscale\":[[0.0,\"#0d0887\"],[0.1111111111111111,\"#46039f\"],[0.2222222222222222,\"#7201a8\"],[0.3333333333333333,\"#9c179e\"],[0.4444444444444444,\"#bd3786\"],[0.5555555555555556,\"#d8576b\"],[0.6666666666666666,\"#ed7953\"],[0.7777777777777778,\"#fb9f3a\"],[0.8888888888888888,\"#fdca26\"],[1.0,\"#f0f921\"]]}],\"mesh3d\":[{\"type\":\"mesh3d\",\"colorbar\":{\"outlinewidth\":0,\"ticks\":\"\"}}],\"scatter\":[{\"fillpattern\":{\"fillmode\":\"overlay\",\"size\":10,\"solidity\":0.2},\"type\":\"scatter\"}],\"parcoords\":[{\"type\":\"parcoords\",\"line\":{\"colorbar\":{\"outlinewidth\":0,\"ticks\":\"\"}}}],\"scatterpolargl\":[{\"type\":\"scatterpolargl\",\"marker\":{\"colorbar\":{\"outlinewidth\":0,\"ticks\":\"\"}}}],\"bar\":[{\"error_x\":{\"color\":\"#2a3f5f\"},\"error_y\":{\"color\":\"#2a3f5f\"},\"marker\":{\"line\":{\"color\":\"#E5ECF6\",\"width\":0.5},\"pattern\":{\"fillmode\":\"overlay\",\"size\":10,\"solidity\":0.2}},\"type\":\"bar\"}],\"scattergeo\":[{\"type\":\"scattergeo\",\"marker\":{\"colorbar\":{\"outlinewidth\":0,\"ticks\":\"\"}}}],\"scatterpolar\":[{\"type\":\"scatterpolar\",\"marker\":{\"colorbar\":{\"outlinewidth\":0,\"ticks\":\"\"}}}],\"histogram\":[{\"marker\":{\"pattern\":{\"fillmode\":\"overlay\",\"size\":10,\"solidity\":0.2}},\"type\":\"histogram\"}],\"scattergl\":[{\"type\":\"scattergl\",\"marker\":{\"colorbar\":{\"outlinewidth\":0,\"ticks\":\"\"}}}],\"scatter3d\":[{\"type\":\"scatter3d\",\"line\":{\"colorbar\":{\"outlinewidth\":0,\"ticks\":\"\"}},\"marker\":{\"colorbar\":{\"outlinewidth\":0,\"ticks\":\"\"}}}],\"scattermapbox\":[{\"type\":\"scattermapbox\",\"marker\":{\"colorbar\":{\"outlinewidth\":0,\"ticks\":\"\"}}}],\"scatterternary\":[{\"type\":\"scatterternary\",\"marker\":{\"colorbar\":{\"outlinewidth\":0,\"ticks\":\"\"}}}],\"scattercarpet\":[{\"type\":\"scattercarpet\",\"marker\":{\"colorbar\":{\"outlinewidth\":0,\"ticks\":\"\"}}}],\"carpet\":[{\"aaxis\":{\"endlinecolor\":\"#2a3f5f\",\"gridcolor\":\"white\",\"linecolor\":\"white\",\"minorgridcolor\":\"white\",\"startlinecolor\":\"#2a3f5f\"},\"baxis\":{\"endlinecolor\":\"#2a3f5f\",\"gridcolor\":\"white\",\"linecolor\":\"white\",\"minorgridcolor\":\"white\",\"startlinecolor\":\"#2a3f5f\"},\"type\":\"carpet\"}],\"table\":[{\"cells\":{\"fill\":{\"color\":\"#EBF0F8\"},\"line\":{\"color\":\"white\"}},\"header\":{\"fill\":{\"color\":\"#C8D4E3\"},\"line\":{\"color\":\"white\"}},\"type\":\"table\"}],\"barpolar\":[{\"marker\":{\"line\":{\"color\":\"#E5ECF6\",\"width\":0.5},\"pattern\":{\"fillmode\":\"overlay\",\"size\":10,\"solidity\":0.2}},\"type\":\"barpolar\"}],\"pie\":[{\"automargin\":true,\"type\":\"pie\"}]},\"layout\":{\"autotypenumbers\":\"strict\",\"colorway\":[\"#636efa\",\"#EF553B\",\"#00cc96\",\"#ab63fa\",\"#FFA15A\",\"#19d3f3\",\"#FF6692\",\"#B6E880\",\"#FF97FF\",\"#FECB52\"],\"font\":{\"color\":\"#2a3f5f\"},\"hovermode\":\"closest\",\"hoverlabel\":{\"align\":\"left\"},\"paper_bgcolor\":\"white\",\"plot_bgcolor\":\"#E5ECF6\",\"polar\":{\"bgcolor\":\"#E5ECF6\",\"angularaxis\":{\"gridcolor\":\"white\",\"linecolor\":\"white\",\"ticks\":\"\"},\"radialaxis\":{\"gridcolor\":\"white\",\"linecolor\":\"white\",\"ticks\":\"\"}},\"ternary\":{\"bgcolor\":\"#E5ECF6\",\"aaxis\":{\"gridcolor\":\"white\",\"linecolor\":\"white\",\"ticks\":\"\"},\"baxis\":{\"gridcolor\":\"white\",\"linecolor\":\"white\",\"ticks\":\"\"},\"caxis\":{\"gridcolor\":\"white\",\"linecolor\":\"white\",\"ticks\":\"\"}},\"coloraxis\":{\"colorbar\":{\"outlinewidth\":0,\"ticks\":\"\"}},\"colorscale\":{\"sequential\":[[0.0,\"#0d0887\"],[0.1111111111111111,\"#46039f\"],[0.2222222222222222,\"#7201a8\"],[0.3333333333333333,\"#9c179e\"],[0.4444444444444444,\"#bd3786\"],[0.5555555555555556,\"#d8576b\"],[0.6666666666666666,\"#ed7953\"],[0.7777777777777778,\"#fb9f3a\"],[0.8888888888888888,\"#fdca26\"],[1.0,\"#f0f921\"]],\"sequentialminus\":[[0.0,\"#0d0887\"],[0.1111111111111111,\"#46039f\"],[0.2222222222222222,\"#7201a8\"],[0.3333333333333333,\"#9c179e\"],[0.4444444444444444,\"#bd3786\"],[0.5555555555555556,\"#d8576b\"],[0.6666666666666666,\"#ed7953\"],[0.7777777777777778,\"#fb9f3a\"],[0.8888888888888888,\"#fdca26\"],[1.0,\"#f0f921\"]],\"diverging\":[[0,\"#8e0152\"],[0.1,\"#c51b7d\"],[0.2,\"#de77ae\"],[0.3,\"#f1b6da\"],[0.4,\"#fde0ef\"],[0.5,\"#f7f7f7\"],[0.6,\"#e6f5d0\"],[0.7,\"#b8e186\"],[0.8,\"#7fbc41\"],[0.9,\"#4d9221\"],[1,\"#276419\"]]},\"xaxis\":{\"gridcolor\":\"white\",\"linecolor\":\"white\",\"ticks\":\"\",\"title\":{\"standoff\":15},\"zerolinecolor\":\"white\",\"automargin\":true,\"zerolinewidth\":2},\"yaxis\":{\"gridcolor\":\"white\",\"linecolor\":\"white\",\"ticks\":\"\",\"title\":{\"standoff\":15},\"zerolinecolor\":\"white\",\"automargin\":true,\"zerolinewidth\":2},\"scene\":{\"xaxis\":{\"backgroundcolor\":\"#E5ECF6\",\"gridcolor\":\"white\",\"linecolor\":\"white\",\"showbackground\":true,\"ticks\":\"\",\"zerolinecolor\":\"white\",\"gridwidth\":2},\"yaxis\":{\"backgroundcolor\":\"#E5ECF6\",\"gridcolor\":\"white\",\"linecolor\":\"white\",\"showbackground\":true,\"ticks\":\"\",\"zerolinecolor\":\"white\",\"gridwidth\":2},\"zaxis\":{\"backgroundcolor\":\"#E5ECF6\",\"gridcolor\":\"white\",\"linecolor\":\"white\",\"showbackground\":true,\"ticks\":\"\",\"zerolinecolor\":\"white\",\"gridwidth\":2}},\"shapedefaults\":{\"line\":{\"color\":\"#2a3f5f\"}},\"annotationdefaults\":{\"arrowcolor\":\"#2a3f5f\",\"arrowhead\":0,\"arrowwidth\":1},\"geo\":{\"bgcolor\":\"white\",\"landcolor\":\"#E5ECF6\",\"subunitcolor\":\"white\",\"showland\":true,\"showlakes\":true,\"lakecolor\":\"white\"},\"title\":{\"x\":0.05},\"mapbox\":{\"style\":\"light\"}}},\"xaxis\":{\"anchor\":\"y\",\"domain\":[0.0,1.0],\"title\":{\"text\":\"Name\"}},\"yaxis\":{\"anchor\":\"x\",\"domain\":[0.0,1.0],\"title\":{\"text\":\"Time Taken\"}},\"legend\":{\"tracegroupgap\":0},\"title\":{\"text\":\"Time Taken VS Model\"},\"barmode\":\"relative\"},                        {\"responsive\": true}                    ).then(function(){\n                            \nvar gd = document.getElementById('9703dabb-76fa-4d0d-b7c8-f7f6fa505ed2');\nvar x = new MutationObserver(function (mutations, observer) {{\n        var display = window.getComputedStyle(gd).display;\n        if (!display || display === 'none') {{\n            console.log([gd, 'removed!']);\n            Plotly.purge(gd);\n            observer.disconnect();\n        }}\n}});\n\n// Listen for the removal of the full notebook cells\nvar notebookContainer = gd.closest('#notebook-container');\nif (notebookContainer) {{\n    x.observe(notebookContainer, {childList: true});\n}}\n\n// Listen for the clearing of the current output cell\nvar outputEl = gd.closest('.output');\nif (outputEl) {{\n    x.observe(outputEl, {childList: true});\n}}\n\n                        })                };                });            </script>        </div>"
     },
     "metadata": {},
     "output_type": "display_data"
    }
   ],
   "source": [
    "model_df.sort_values(by = 'Time Taken',ascending = False,inplace = True)\n",
    "fig = px.bar(model_df, x=\"Name\", y=\"Time Taken\", title='Time Taken VS Model')\n",
    "fig.show()"
   ],
   "metadata": {
    "collapsed": false,
    "pycharm": {
     "name": "#%%\n"
    }
   }
  },
  {
   "cell_type": "code",
   "execution_count": null,
   "outputs": [],
   "source": [],
   "metadata": {
    "collapsed": false,
    "pycharm": {
     "name": "#%%\n"
    }
   }
  }
 ],
 "metadata": {
  "kernelspec": {
   "display_name": "Python 3",
   "language": "python",
   "name": "python3"
  },
  "language_info": {
   "codemirror_mode": {
    "name": "ipython",
    "version": 2
   },
   "file_extension": ".py",
   "mimetype": "text/x-python",
   "name": "python",
   "nbconvert_exporter": "python",
   "pygments_lexer": "ipython2",
   "version": "2.7.6"
  }
 },
 "nbformat": 4,
 "nbformat_minor": 0
}